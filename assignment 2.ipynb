{
 "cells": [
  {
   "cell_type": "code",
   "execution_count": 2,
   "id": "73125596",
   "metadata": {
    "scrolled": false
   },
   "outputs": [
    {
     "name": "stdout",
     "output_type": "stream",
     "text": [
      "    Emp ID Name Prefix First Name Middle Initial Last Name Gender  \\\n",
      "0   677509        Drs.       Lois              H    Walker      F   \n",
      "1   940761         Ms.     Brenda              S  Robinson      F   \n",
      "2   428945         Dr.        Joe              W  Robinson      M   \n",
      "3   408351        Drs.      Diane              I     Evans      F   \n",
      "4   193819         Mr.   Benjamin              R   Russell      M   \n",
      "..     ...         ...        ...            ...       ...    ...   \n",
      "95  639892         Mr.       Jose              K      Hill      M   \n",
      "96  704709         Dr.     Harold              Z    Nelson      M   \n",
      "97  461593         Ms.     Nicole              O      Ward      F   \n",
      "98  392491        Mrs.    Theresa              R    Murphy      F   \n",
      "99  495141        Drs.      Tammy              B     Young      F   \n",
      "\n",
      "                          E Mail     Father's Name       Mother's Name  \\\n",
      "0        lois.walker@hotmail.com     Donald Walker        Helen Walker   \n",
      "1      brenda.robinson@gmail.com  Raymond Robinson       Judy Robinson   \n",
      "2         joe.robinson@gmail.com    Scott Robinson  Stephanie Robinson   \n",
      "3          diane.evans@yahoo.com       Jason Evans      Michelle Evans   \n",
      "4   benjamin.russell@charter.net   Gregory Russell   Elizabeth Russell   \n",
      "..                           ...               ...                 ...   \n",
      "95         jose.hill@hotmail.com       Carlos Hill           Anna Hill   \n",
      "96       harold.nelson@gmail.com    Richard Nelson       Pamela Nelson   \n",
      "97         nicole.ward@yahoo.com        Ralph Ward          Julia Ward   \n",
      "98      theresa.murphy@gmail.com     George Murphy   Jacqueline Murphy   \n",
      "99       tammy.young@comcast.net      Andrew Young        Brenda Young   \n",
      "\n",
      "   Mother's Maiden Name  Salary  \n",
      "0                 Lewis  168251  \n",
      "1                 Perry   51063  \n",
      "2                Taylor   50155  \n",
      "3                 Allen  180294  \n",
      "4                Nelson  117642  \n",
      "..                  ...     ...  \n",
      "95                Hayes  129774  \n",
      "96                Smith  156194  \n",
      "97                  Lee   95673  \n",
      "98             Peterson   51015  \n",
      "99             Robinson   93650  \n",
      "\n",
      "[100 rows x 11 columns]\n"
     ]
    }
   ],
   "source": [
    "import pandas as pd\n",
    "d=pd.read_csv(\"/Users/student/Downloads/employees details.csv\")\n",
    "print(d)"
   ]
  },
  {
   "cell_type": "code",
   "execution_count": 3,
   "id": "19569ecc",
   "metadata": {},
   "outputs": [
    {
     "name": "stdout",
     "output_type": "stream",
     "text": [
      "columns Index(['Emp ID', 'Name Prefix', 'First Name', 'Middle Initial', 'Last Name',\n",
      "       'Gender', 'E Mail', 'Father's Name', 'Mother's Name',\n",
      "       'Mother's Maiden Name', 'Salary'],\n",
      "      dtype='object')\n",
      "(100, 11)\n"
     ]
    }
   ],
   "source": [
    "df=pd.DataFrame(d)\n",
    "print(\"columns\",df.columns)\n",
    "print(df.shape)"
   ]
  },
  {
   "cell_type": "code",
   "execution_count": 4,
   "id": "aac0888e",
   "metadata": {},
   "outputs": [
    {
     "name": "stdout",
     "output_type": "stream",
     "text": [
      "emp id 0     677509\n",
      "1     940761\n",
      "2     428945\n",
      "3     408351\n",
      "4     193819\n",
      "       ...  \n",
      "95    639892\n",
      "96    704709\n",
      "97    461593\n",
      "98    392491\n",
      "99    495141\n",
      "Name: Emp ID, Length: 100, dtype: int64\n"
     ]
    }
   ],
   "source": [
    "print(\"emp id\",df['Emp ID'])"
   ]
  },
  {
   "cell_type": "code",
   "execution_count": 5,
   "id": "9c7905e9",
   "metadata": {},
   "outputs": [
    {
     "name": "stdout",
     "output_type": "stream",
     "text": [
      "Emp ID                                  428945\n",
      "Name Prefix                                Dr.\n",
      "First Name                                 Joe\n",
      "Middle Initial                               W\n",
      "Last Name                             Robinson\n",
      "Gender                                       M\n",
      "E Mail                  joe.robinson@gmail.com\n",
      "Father's Name                   Scott Robinson\n",
      "Mother's Name               Stephanie Robinson\n",
      "Mother's Maiden Name                    Taylor\n",
      "Salary                                   50155\n",
      "Name: 2, dtype: object\n"
     ]
    }
   ],
   "source": [
    "print(df.loc[2])"
   ]
  },
  {
   "cell_type": "code",
   "execution_count": 8,
   "id": "9d5a7fc5",
   "metadata": {},
   "outputs": [
    {
     "name": "stdout",
     "output_type": "stream",
     "text": [
      "   Emp ID Name Prefix First Name Middle Initial Last Name Gender  \\\n",
      "0  677509        Drs.       Lois              H    Walker      F   \n",
      "1  940761         Ms.     Brenda              S  Robinson      F   \n",
      "2  428945         Dr.        Joe              W  Robinson      M   \n",
      "3  408351        Drs.      Diane              I     Evans      F   \n",
      "4  193819         Mr.   Benjamin              R   Russell      M   \n",
      "5  499687         Mr.    Patrick              F    Bailey      M   \n",
      "6  539712         Ms.      Nancy              T     Baker      F   \n",
      "\n",
      "                         E Mail     Father's Name       Mother's Name  \\\n",
      "0       lois.walker@hotmail.com     Donald Walker        Helen Walker   \n",
      "1     brenda.robinson@gmail.com  Raymond Robinson       Judy Robinson   \n",
      "2        joe.robinson@gmail.com    Scott Robinson  Stephanie Robinson   \n",
      "3         diane.evans@yahoo.com       Jason Evans      Michelle Evans   \n",
      "4  benjamin.russell@charter.net   Gregory Russell   Elizabeth Russell   \n",
      "5        patrick.bailey@aol.com      Ralph Bailey        Laura Bailey   \n",
      "6            nancy.baker@bp.com       Scott Baker          Judy Baker   \n",
      "\n",
      "  Mother's Maiden Name  Salary  \n",
      "0                Lewis  168251  \n",
      "1                Perry   51063  \n",
      "2               Taylor   50155  \n",
      "3                Allen  180294  \n",
      "4               Nelson  117642  \n",
      "5            Henderson   72305  \n",
      "6               Thomas   98189  \n"
     ]
    }
   ],
   "source": [
    "d=pd.read_csv(\"employees details.csv\")\n",
    "print(d.head(7))"
   ]
  },
  {
   "cell_type": "code",
   "execution_count": 15,
   "id": "3f5f2a1b",
   "metadata": {},
   "outputs": [
    {
     "name": "stdout",
     "output_type": "stream",
     "text": [
      "    Emp ID Name Prefix First Name Middle Initial Last Name Gender  \\\n",
      "93  158666         Ms.    Rebecca              A   Stewart      F   \n",
      "94  489424         Dr.    Phillip              F     White      M   \n",
      "95  639892         Mr.       Jose              K      Hill      M   \n",
      "96  704709         Dr.     Harold              Z    Nelson      M   \n",
      "97  461593         Ms.     Nicole              O      Ward      F   \n",
      "98  392491        Mrs.    Theresa              R    Murphy      F   \n",
      "99  495141        Drs.      Tammy              B     Young      F   \n",
      "\n",
      "                       E Mail   Father's Name      Mother's Name  \\\n",
      "93  rebecca.stewart@gmail.com   Roger Stewart      Carol Stewart   \n",
      "94    phillip.white@gmail.com    Harold White      Frances White   \n",
      "95      jose.hill@hotmail.com     Carlos Hill          Anna Hill   \n",
      "96    harold.nelson@gmail.com  Richard Nelson      Pamela Nelson   \n",
      "97      nicole.ward@yahoo.com      Ralph Ward         Julia Ward   \n",
      "98   theresa.murphy@gmail.com   George Murphy  Jacqueline Murphy   \n",
      "99    tammy.young@comcast.net    Andrew Young       Brenda Young   \n",
      "\n",
      "   Mother's Maiden Name  Salary  \n",
      "93                  Cox  160043  \n",
      "94               Carter  181774  \n",
      "95                Hayes  129774  \n",
      "96                Smith  156194  \n",
      "97                  Lee   95673  \n",
      "98             Peterson   51015  \n",
      "99             Robinson   93650  \n"
     ]
    }
   ],
   "source": [
    "d=pd.read_csv(\"employees details.csv\")\n",
    "print(d.tail(7))"
   ]
  },
  {
   "cell_type": "code",
   "execution_count": 9,
   "id": "63066ea6",
   "metadata": {},
   "outputs": [
    {
     "name": "stdout",
     "output_type": "stream",
     "text": [
      "0     56083.666667\n",
      "1     17021.000000\n",
      "2     16718.333333\n",
      "3     60098.000000\n",
      "4     39214.000000\n",
      "          ...     \n",
      "95    43258.000000\n",
      "96    52064.666667\n",
      "97    31891.000000\n",
      "98    17005.000000\n",
      "99    31216.666667\n",
      "Name: Salary, Length: 100, dtype: float64\n"
     ]
    }
   ],
   "source": [
    "df=pd.DataFrame(d)\n",
    "print(df['Salary']/3)"
   ]
  },
  {
   "cell_type": "code",
   "execution_count": 10,
   "id": "fcd17e08",
   "metadata": {},
   "outputs": [
    {
     "name": "stdout",
     "output_type": "stream",
     "text": [
      "Email ID:\n",
      " 0          lois.walker@hotmail.com\n",
      "1        brenda.robinson@gmail.com\n",
      "2           joe.robinson@gmail.com\n",
      "3            diane.evans@yahoo.com\n",
      "4     benjamin.russell@charter.net\n",
      "                  ...             \n",
      "95           jose.hill@hotmail.com\n",
      "96         harold.nelson@gmail.com\n",
      "97           nicole.ward@yahoo.com\n",
      "98        theresa.murphy@gmail.com\n",
      "99         tammy.young@comcast.net\n",
      "Name: E Mail, Length: 100, dtype: object\n"
     ]
    }
   ],
   "source": [
    "df=pd.DataFrame(d)\n",
    "print(\"Email ID:\\n\",df['E Mail'])"
   ]
  },
  {
   "cell_type": "code",
   "execution_count": 11,
   "id": "fc537399",
   "metadata": {},
   "outputs": [
    {
     "name": "stdout",
     "output_type": "stream",
     "text": [
      "    Emp ID Name Prefix First Name Middle Initial Last Name Gender  \\\n",
      "33  456747         Mr.        Roy              Z   Griffin      M   \n",
      "\n",
      "                   E Mail     Father's Name  Mother's Name  \\\n",
      "33  roy.griffin@yahoo.com  Benjamin Griffin  Wanda Griffin   \n",
      "\n",
      "   Mother's Maiden Name  Salary  \n",
      "33              Simmons  170895  \n"
     ]
    }
   ],
   "source": [
    "df=pd.DataFrame(d)\n",
    "print(d.loc[df['First Name']=='Roy'])"
   ]
  },
  {
   "cell_type": "code",
   "execution_count": 14,
   "id": "3d6aeff2",
   "metadata": {},
   "outputs": [
    {
     "name": "stdout",
     "output_type": "stream",
     "text": [
      "    Emp ID Name Prefix First Name Middle Initial Last Name Gender  \\\n",
      "0   677509        Drs.       Lois              H    Walker      F   \n",
      "1   940761         Ms.     Brenda              S  Robinson      F   \n",
      "2   428945         Dr.        Joe              W  Robinson      M   \n",
      "3   408351        Drs.      Diane              I     Evans      F   \n",
      "4   193819         Mr.   Benjamin              R   Russell      M   \n",
      "..     ...         ...        ...            ...       ...    ...   \n",
      "95  639892         Mr.       Jose              K      Hill      M   \n",
      "96  704709         Dr.     Harold              Z    Nelson      M   \n",
      "97  461593         Ms.     Nicole              O      Ward      F   \n",
      "98  392491        Mrs.    Theresa              R    Murphy      F   \n",
      "99  495141        Drs.      Tammy              B     Young      F   \n",
      "\n",
      "                          E Mail     Father's Name       Mother's Name  \\\n",
      "0        lois.walker@hotmail.com     Donald Walker        Helen Walker   \n",
      "1      brenda.robinson@gmail.com  Raymond Robinson       Judy Robinson   \n",
      "2         joe.robinson@gmail.com    Scott Robinson  Stephanie Robinson   \n",
      "3          diane.evans@yahoo.com       Jason Evans      Michelle Evans   \n",
      "4   benjamin.russell@charter.net   Gregory Russell   Elizabeth Russell   \n",
      "..                           ...               ...                 ...   \n",
      "95         jose.hill@hotmail.com       Carlos Hill           Anna Hill   \n",
      "96       harold.nelson@gmail.com    Richard Nelson       Pamela Nelson   \n",
      "97         nicole.ward@yahoo.com        Ralph Ward          Julia Ward   \n",
      "98      theresa.murphy@gmail.com     George Murphy   Jacqueline Murphy   \n",
      "99       tammy.young@comcast.net      Andrew Young        Brenda Young   \n",
      "\n",
      "   Mother's Maiden Name  Salary  \n",
      "0                 Lewis  168251  \n",
      "1                 Perry   51063  \n",
      "2                Taylor   50155  \n",
      "3                 Allen  180294  \n",
      "4                Nelson  117642  \n",
      "..                  ...     ...  \n",
      "95                Hayes  129774  \n",
      "96                Smith  156194  \n",
      "97                  Lee   95673  \n",
      "98             Peterson   51015  \n",
      "99             Robinson   93650  \n",
      "\n",
      "[100 rows x 11 columns]\n"
     ]
    }
   ],
   "source": [
    "d=pd.read_excel(\"/Users/student/Downloads/employees-details.xlsx\")\n",
    "print(d)"
   ]
  },
  {
   "cell_type": "code",
   "execution_count": null,
   "id": "b9d71a6f",
   "metadata": {},
   "outputs": [],
   "source": []
  }
 ],
 "metadata": {
  "kernelspec": {
   "display_name": "Python 3 (ipykernel)",
   "language": "python",
   "name": "python3"
  },
  "language_info": {
   "codemirror_mode": {
    "name": "ipython",
    "version": 3
   },
   "file_extension": ".py",
   "mimetype": "text/x-python",
   "name": "python",
   "nbconvert_exporter": "python",
   "pygments_lexer": "ipython3",
   "version": "3.11.5"
  }
 },
 "nbformat": 4,
 "nbformat_minor": 5
}
