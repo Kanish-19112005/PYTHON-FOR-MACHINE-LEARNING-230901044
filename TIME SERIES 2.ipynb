{
 "cells": [
  {
   "cell_type": "code",
   "execution_count": 1,
   "id": "915806e8",
   "metadata": {},
   "outputs": [
    {
     "name": "stdout",
     "output_type": "stream",
     "text": [
      "2025-04-11 11:07:28.992474\n"
     ]
    }
   ],
   "source": [
    "import datetime\n",
    "cd=datetime.datetime.now()\n",
    "print(cd)"
   ]
  },
  {
   "cell_type": "code",
   "execution_count": 2,
   "id": "d3bf38c8",
   "metadata": {},
   "outputs": [
    {
     "name": "stdout",
     "output_type": "stream",
     "text": [
      "Two-digit year: 25\n"
     ]
    }
   ],
   "source": [
    "res=cd.strftime(\"%y\")\n",
    "print(\"Two-digit year:\", res)"
   ]
  },
  {
   "cell_type": "code",
   "execution_count": 3,
   "id": "fc8294a8",
   "metadata": {},
   "outputs": [
    {
     "name": "stdout",
     "output_type": "stream",
     "text": [
      "Four-digit year: 2025\n"
     ]
    }
   ],
   "source": [
    "res1=cd.strftime(\"%Y\")\n",
    "print(\"Four-digit year:\",res1)"
   ]
  },
  {
   "cell_type": "code",
   "execution_count": 4,
   "id": "2715e09c",
   "metadata": {},
   "outputs": [
    {
     "name": "stdout",
     "output_type": "stream",
     "text": [
      "Two-digit month [01, 12]: 04\n"
     ]
    }
   ],
   "source": [
    "res=cd.strftime(\"%m\")\n",
    "print(\"Two-digit month [01, 12]:\",res)"
   ]
  },
  {
   "cell_type": "code",
   "execution_count": 5,
   "id": "dc98d6c3",
   "metadata": {},
   "outputs": [
    {
     "name": "stdout",
     "output_type": "stream",
     "text": [
      "Short version of month: Apr\n"
     ]
    }
   ],
   "source": [
    "res=cd.strftime(\"%b\")\n",
    "print(\"Short version of month:\",res)"
   ]
  },
  {
   "cell_type": "code",
   "execution_count": 7,
   "id": "e7eed7e3",
   "metadata": {},
   "outputs": [
    {
     "name": "stdout",
     "output_type": "stream",
     "text": [
      "Full name of month: April\n"
     ]
    }
   ],
   "source": [
    "res=cd.strftime(\"%B\")\n",
    "print(\"Full name of month:\",res)"
   ]
  },
  {
   "cell_type": "code",
   "execution_count": 8,
   "id": "20a54c28",
   "metadata": {},
   "outputs": [
    {
     "name": "stdout",
     "output_type": "stream",
     "text": [
      "Days of the year: 101\n"
     ]
    }
   ],
   "source": [
    "res=cd.strftime(\"%j\")\n",
    "print(\"Days of the year:\", res)"
   ]
  },
  {
   "cell_type": "code",
   "execution_count": 9,
   "id": "499f753c",
   "metadata": {},
   "outputs": [
    {
     "name": "stdout",
     "output_type": "stream",
     "text": [
      "Shortcut for %m/%d/%y (e.g., 04/18/12): 04/11/25\n"
     ]
    }
   ],
   "source": [
    "res=cd.strftime(\"%D\")\n",
    "print(\"Shortcut for %m/%d/%y (e.g., 04/18/12):\", res)"
   ]
  },
  {
   "cell_type": "code",
   "execution_count": 10,
   "id": "9f5ddc0a",
   "metadata": {},
   "outputs": [
    {
     "name": "stdout",
     "output_type": "stream",
     "text": [
      "Two-digit day [01, 31]: 11\n"
     ]
    }
   ],
   "source": [
    "res=cd.strftime(\"%d\")\n",
    "print(\"Two-digit day [01, 31]:\", res)"
   ]
  },
  {
   "cell_type": "code",
   "execution_count": 11,
   "id": "3ba23493",
   "metadata": {},
   "outputs": [
    {
     "name": "stdout",
     "output_type": "stream",
     "text": [
      "Short version of day Fri\n"
     ]
    }
   ],
   "source": [
    "res=cd.strftime(\"%a\")\n",
    "print(\"Short version of day\",res)"
   ]
  },
  {
   "cell_type": "code",
   "execution_count": 21,
   "id": "b2afb75e",
   "metadata": {},
   "outputs": [
    {
     "name": "stdout",
     "output_type": "stream",
     "text": [
      "Full name of a day: Friday\n"
     ]
    }
   ],
   "source": [
    "res=cd.strftime(\"%A\")\n",
    "print(\"Full name of a day:\", res)"
   ]
  },
  {
   "cell_type": "code",
   "execution_count": 13,
   "id": "9a2732f7",
   "metadata": {},
   "outputs": [
    {
     "name": "stdout",
     "output_type": "stream",
     "text": [
      "Hour (24-hour clock) [00, 23]: 11\n"
     ]
    }
   ],
   "source": [
    "res=cd.strftime(\"%H\")\n",
    "print(\"Hour (24-hour clock) [00, 23]:\",res)"
   ]
  },
  {
   "cell_type": "code",
   "execution_count": 14,
   "id": "e76bc422",
   "metadata": {},
   "outputs": [
    {
     "name": "stdout",
     "output_type": "stream",
     "text": [
      "Hour (12-hour clock) [01, 12] 11\n"
     ]
    }
   ],
   "source": [
    "res=cd.strftime(\"%I\")\n",
    "print(\"Hour (12-hour clock) [01, 12]\",res)"
   ]
  },
  {
   "cell_type": "code",
   "execution_count": 15,
   "id": "5d6a72b4",
   "metadata": {},
   "outputs": [
    {
     "name": "stdout",
     "output_type": "stream",
     "text": [
      "Two-digit minute [00, 59]: 07\n"
     ]
    }
   ],
   "source": [
    "res=cd.strftime(\"%M\")\n",
    "print(\"Two-digit minute [00, 59]:\", res)"
   ]
  },
  {
   "cell_type": "code",
   "execution_count": 16,
   "id": "ca6b1c7b",
   "metadata": {},
   "outputs": [
    {
     "name": "stdout",
     "output_type": "stream",
     "text": [
      "second[00,61](seconds 60,61 account for leap second): 28\n"
     ]
    }
   ],
   "source": [
    "res=cd.strftime(\"%S\")\n",
    "print(\"second[00,61](seconds 60,61 account for leap second):\",res)"
   ]
  },
  {
   "cell_type": "code",
   "execution_count": 18,
   "id": "86651292",
   "metadata": {},
   "outputs": [
    {
     "name": "stdout",
     "output_type": "stream",
     "text": [
      "shortcut for %y-%m-%d(eg,2012-4-18): 2025-04-11\n"
     ]
    }
   ],
   "source": [
    "res=cd.strftime(\"%F\")\n",
    "print(\"shortcut for %y-%m-%d(eg,2012-4-18):\",res)"
   ]
  },
  {
   "cell_type": "code",
   "execution_count": 19,
   "id": "7bf88ec9",
   "metadata": {},
   "outputs": [
    {
     "name": "stdout",
     "output_type": "stream",
     "text": [
      "microsecond as an integer,zero padded(from 000000 to 999999): 992474\n"
     ]
    }
   ],
   "source": [
    "res=cd.strftime(\"%f\")\n",
    "print(\"microsecond as an integer,zero padded(from 000000 to 999999):\",res)"
   ]
  },
  {
   "cell_type": "code",
   "execution_count": 22,
   "id": "07476a1f",
   "metadata": {},
   "outputs": [
    {
     "name": "stdout",
     "output_type": "stream",
     "text": [
      "local equivalent of AM or PM: AM\n"
     ]
    }
   ],
   "source": [
    "res=cd.strftime(\"%p\")\n",
    "print(\"local equivalent of AM or PM:\",res)"
   ]
  },
  {
   "cell_type": "code",
   "execution_count": 24,
   "id": "c947f7e2",
   "metadata": {},
   "outputs": [
    {
     "name": "stdout",
     "output_type": "stream",
     "text": [
      "locale appropriate formated date(eg, in the United States, May 1, 2012 yields'05/01/2012'): 04/11/25\n"
     ]
    }
   ],
   "source": [
    "res=cd.strftime(\"%x\")\n",
    "print(\"locale appropriate formated date(eg, in the United States, May 1, 2012 yields'05/01/2012'):\",res)"
   ]
  },
  {
   "cell_type": "code",
   "execution_count": 26,
   "id": "c8785eb1",
   "metadata": {},
   "outputs": [
    {
     "name": "stdout",
     "output_type": "stream",
     "text": [
      "Locale-appropriate time (e.g.,'04:24:12 PM'): 11:07:28\n"
     ]
    }
   ],
   "source": [
    "res=cd.strftime(\"%X\")\n",
    "print(\"Locale-appropriate time (e.g.,'04:24:12 PM'):\",res)"
   ]
  },
  {
   "cell_type": "code",
   "execution_count": null,
   "id": "e84b16de",
   "metadata": {},
   "outputs": [],
   "source": []
  }
 ],
 "metadata": {
  "kernelspec": {
   "display_name": "Python 3 (ipykernel)",
   "language": "python",
   "name": "python3"
  },
  "language_info": {
   "codemirror_mode": {
    "name": "ipython",
    "version": 3
   },
   "file_extension": ".py",
   "mimetype": "text/x-python",
   "name": "python",
   "nbconvert_exporter": "python",
   "pygments_lexer": "ipython3",
   "version": "3.11.5"
  }
 },
 "nbformat": 4,
 "nbformat_minor": 5
}
