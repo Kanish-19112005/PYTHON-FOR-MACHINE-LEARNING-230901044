{
 "cells": [
  {
   "cell_type": "code",
   "execution_count": 8,
   "id": "62f668e7",
   "metadata": {},
   "outputs": [
    {
     "name": "stdout",
     "output_type": "stream",
     "text": [
      "ORIGINAL DATA:\n",
      "\n",
      "    S.No  roll      name   eng   tam  math  science  social  total\n",
      "0      1   100       ram  60.0   4.0   0.0      6.0    96.0    166\n",
      "1      2   101       som  77.0   6.0   4.0     78.0    56.0    221\n",
      "2      3   102      sita  56.0  78.0   6.0     96.0    77.0    313\n",
      "3      4   103      gita   4.0  96.0  78.0     56.0    34.0    268\n",
      "4      5   104     meera   6.0  56.0  96.0     77.0    96.0    331\n",
      "5      6   105     priya  78.0  77.0  56.0     34.0    56.0    301\n",
      "6      7   106    ganesh  96.0  34.0  77.0     56.0    77.0    340\n",
      "7      8   107     fahim  56.0   NaN  34.0     34.0    34.0    158\n",
      "8      9   108    joshua  77.0  78.0  60.0     60.0    96.0    371\n",
      "9     10   109     johan  34.0  67.0  78.0     78.0    56.0    313\n",
      "10    11   110  kamalesh  56.0  45.0  77.0     77.0    77.0    332\n",
      "11    12   111      mani  78.0   4.0   4.0      4.0    34.0    124\n",
      "12    13   112     kumar  67.0  33.0   6.0     34.0    96.0    236\n",
      "13    14   113    suresh   NaN   NaN   NaN      NaN     NaN      0\n",
      "14    15   114    ramesh  45.0  99.0  96.0     78.0    77.0    395\n",
      "15    16   115    harish   4.0  76.0  56.0     77.0    78.0    291\n",
      "16    17   116     gopal  33.0  45.0  77.0      4.0    96.0    255\n",
      "17    18   117    rampal  68.0   4.0  34.0      6.0    56.0    168\n",
      "18    19   118      paul  99.0  33.0  33.0     76.0    77.0    318\n",
      "19    20   119   kishore  76.0  68.0  68.0     45.0    77.0    334\n"
     ]
    }
   ],
   "source": [
    "import pandas as pd\n",
    "pd.set_option('display.max_columns',10)\n",
    "print(\"ORIGINAL DATA:\\n\")\n",
    "df=pd.read_excel(\"dcap.xlsx\")\n",
    "print(df)"
   ]
  },
  {
   "cell_type": "code",
   "execution_count": 9,
   "id": "2abc7d1c",
   "metadata": {},
   "outputs": [
    {
     "name": "stdout",
     "output_type": "stream",
     "text": [
      "0          ram\n",
      "1          som\n",
      "2         sita\n",
      "3         gita\n",
      "4        meera\n",
      "5        priya\n",
      "6       ganesh\n",
      "7        fahim\n",
      "8       joshua\n",
      "9        johan\n",
      "10    kamalesh\n",
      "11        mani\n",
      "12       kumar\n",
      "13      suresh\n",
      "14      ramesh\n",
      "15      harish\n",
      "16       gopal\n",
      "17      rampal\n",
      "18        paul\n",
      "19     kishore\n",
      "Name: name, dtype: object\n"
     ]
    }
   ],
   "source": [
    "#stripping name and rewriting it in the old file(only name will be present)\n",
    "f=df['name'].str.strip()\n",
    "f.to_excel(\"dcap.xlsx\")\n",
    "print(f)"
   ]
  },
  {
   "cell_type": "code",
   "execution_count": 12,
   "id": "3a8d0605",
   "metadata": {},
   "outputs": [
    {
     "name": "stdout",
     "output_type": "stream",
     "text": [
      "0          ram\n",
      "1          som\n",
      "2         sita\n",
      "3         gita\n",
      "4        meera\n",
      "5        priya\n",
      "6       ganesh\n",
      "7        fahim\n",
      "8       joshua\n",
      "9        johan\n",
      "10    kamalesh\n",
      "11        mani\n",
      "12       kumar\n",
      "13      suresh\n",
      "14      ramesh\n",
      "15      harish\n",
      "16       gopal\n",
      "17      rampal\n",
      "18        paul\n",
      "19     kishore\n",
      "Name: name, dtype: object\n"
     ]
    }
   ],
   "source": [
    "#stripping name from one file and pasting it in a new blank file\n",
    "f=df['name'].str.strip()\n",
    "f.to_excel(\"/Users/student/Desktop/KANISHKAR/blank.xlsx\")\n",
    "print(f)"
   ]
  },
  {
   "cell_type": "code",
   "execution_count": 15,
   "id": "452766af",
   "metadata": {},
   "outputs": [
    {
     "name": "stdout",
     "output_type": "stream",
     "text": [
      "REPLACE VALUE:\n",
      "    S.No  roll      name   eng   tam  math  science  social  total\n",
      "0      1   100       ram  60.0   4.0   0.0      6.0    96.0    166\n",
      "1      2   101       som  77.0   6.0   4.0     78.0    56.0    221\n",
      "2      3   102      sita  56.0  78.0   6.0     96.0    77.0    313\n",
      "3      4   103      gita   4.0  96.0  78.0     56.0    34.0    268\n",
      "4      5   104     meera   6.0  56.0  96.0     77.0    96.0    331\n",
      "5      6   105     priya  78.0  77.0  56.0     34.0    56.0    301\n",
      "6      7   106    ganesh  96.0  34.0  77.0     56.0    77.0    340\n",
      "7      8   107     fahim  56.0  34.0  34.0     34.0    34.0    158\n",
      "8      9   108    joshua  77.0  78.0  60.0     60.0    96.0    371\n",
      "9     10   109     johan  34.0  67.0  78.0     78.0    56.0    313\n",
      "10    11   110  kamalesh  56.0  45.0  77.0     77.0    77.0    332\n",
      "11    12   111      mani  78.0   4.0   4.0      4.0    34.0    124\n",
      "12    13   112     kumar  67.0  33.0   6.0     34.0    96.0    236\n",
      "13    14   113    suresh  67.0  33.0   6.0     34.0    96.0      0\n",
      "14    15   114    ramesh  45.0  99.0  96.0     78.0    77.0    395\n",
      "15    16   115    harish   4.0  76.0  56.0     77.0    78.0    291\n",
      "16    17   116     gopal  33.0  45.0  77.0      4.0    96.0    255\n",
      "17    18   117    rampal  68.0   4.0  34.0      6.0    56.0    168\n",
      "18    19   118      paul  99.0  33.0  33.0     76.0    77.0    318\n",
      "19    20   119   kishore  76.0  68.0  68.0     45.0    77.0    334\n",
      "UPDATED LIST:\n",
      "    S.No  roll      name   eng   tam  math  science  social  total\n",
      "0      1   100       ram  60.0   4.0   0.0      6.0    96.0    166\n",
      "1      2   101       som  77.0   6.0   4.0     78.0    56.0    221\n",
      "2      3   102      sita  56.0  78.0   6.0     96.0    77.0    313\n",
      "3      4   103      gita   4.0  96.0  78.0     56.0    34.0    268\n",
      "4      5   104     meera   6.0  56.0  96.0     77.0    96.0    331\n",
      "5      6   105     priya  78.0  77.0  56.0     34.0    56.0    301\n",
      "6      7   106    ganesh  96.0  34.0  77.0     56.0    77.0    340\n",
      "7      8   107     fahim  56.0  34.0  34.0     34.0    34.0    158\n",
      "8      9   108    joshua  77.0  78.0  60.0     60.0    96.0    371\n",
      "9     10   109     johan  34.0  67.0  78.0     78.0    56.0    313\n",
      "10    11   110  kamalesh  56.0  45.0  77.0     77.0    77.0    332\n",
      "11    12   111      mani  78.0   4.0   4.0      4.0    34.0    124\n",
      "12    13   112     kumar  67.0  33.0   6.0     34.0    96.0    236\n",
      "13    14   113    suresh  67.0  33.0   6.0     34.0    96.0      0\n",
      "14    15   114    ramesh  45.0  99.0  96.0     78.0    77.0    395\n",
      "15    16   115    harish   4.0  76.0  56.0     77.0    78.0    291\n",
      "16    17   116     gopal  33.0  45.0  77.0      4.0    96.0    255\n",
      "17    18   117    rampal  68.0   4.0  34.0      6.0    56.0    168\n",
      "18    19   118      paul  99.0  33.0  33.0     76.0    77.0    318\n",
      "19    20   119   kishore  76.0  68.0  68.0     45.0    77.0    334\n"
     ]
    }
   ],
   "source": [
    "#filling nan values with backfill\n",
    "print(\"REPLACE VALUE:\")\n",
    "k=df.fillna(method='pad')\n",
    "print(k)\n",
    "print(\"UPDATED LIST:\")\n",
    "k.to_excel(\"dcap1.xlsx\")\n",
    "print(k)"
   ]
  },
  {
   "cell_type": "code",
   "execution_count": 16,
   "id": "8cd780f1",
   "metadata": {},
   "outputs": [
    {
     "name": "stdout",
     "output_type": "stream",
     "text": [
      "DROP ONE PARTICULAR COLUMN AND ITS VALUES:\n",
      "    S.No  roll      name   eng   tam  math  science  total\n",
      "0      1   100       ram  60.0   4.0   0.0      6.0    166\n",
      "1      2   101       som  77.0   6.0   4.0     78.0    221\n",
      "2      3   102      sita  56.0  78.0   6.0     96.0    313\n",
      "3      4   103      gita   4.0  96.0  78.0     56.0    268\n",
      "4      5   104     meera   6.0  56.0  96.0     77.0    331\n",
      "5      6   105     priya  78.0  77.0  56.0     34.0    301\n",
      "6      7   106    ganesh  96.0  34.0  77.0     56.0    340\n",
      "7      8   107     fahim  56.0  34.0  34.0     34.0    158\n",
      "8      9   108    joshua  77.0  78.0  60.0     60.0    371\n",
      "9     10   109     johan  34.0  67.0  78.0     78.0    313\n",
      "10    11   110  kamalesh  56.0  45.0  77.0     77.0    332\n",
      "11    12   111      mani  78.0   4.0   4.0      4.0    124\n",
      "12    13   112     kumar  67.0  33.0   6.0     34.0    236\n",
      "13    14   113    suresh  67.0  33.0   6.0     34.0      0\n",
      "14    15   114    ramesh  45.0  99.0  96.0     78.0    395\n",
      "15    16   115    harish   4.0  76.0  56.0     77.0    291\n",
      "16    17   116     gopal  33.0  45.0  77.0      4.0    255\n",
      "17    18   117    rampal  68.0   4.0  34.0      6.0    168\n",
      "18    19   118      paul  99.0  33.0  33.0     76.0    318\n",
      "19    20   119   kishore  76.0  68.0  68.0     45.0    334\n",
      "UPDATED LIST\n"
     ]
    }
   ],
   "source": [
    "print(\"DROP ONE PARTICULAR COLUMN AND ITS VALUES:\")\n",
    "k.drop(['social'],axis=1,inplace=True)\n",
    "print(k)\n",
    "print(\"UPDATED LIST\")\n",
    "#to update k.to_excel(\"filename.xlsx\")"
   ]
  },
  {
   "cell_type": "code",
   "execution_count": 20,
   "id": "6551bf57",
   "metadata": {},
   "outputs": [
    {
     "name": "stdout",
     "output_type": "stream",
     "text": [
      "DROP NaN ROWS:\n",
      "ORIGINAL FILE\n",
      "    S.No  roll      name   eng   tam  math  science  social  total\n",
      "0      1   100       ram  60.0   4.0   0.0      6.0    96.0    166\n",
      "1      2   101       som  77.0   6.0   4.0     78.0    56.0    221\n",
      "2      3   102      sita  56.0  78.0   6.0     96.0    77.0    313\n",
      "3      4   103      gita   4.0  96.0  78.0     56.0    34.0    268\n",
      "4      5   104     meera   6.0  56.0  96.0     77.0    96.0    331\n",
      "5      6   105     priya  78.0  77.0  56.0     34.0    56.0    301\n",
      "6      7   106    ganesh  96.0  34.0  77.0     56.0    77.0    340\n",
      "7      8   107     fahim  56.0   NaN  34.0     34.0    34.0    158\n",
      "8      9   108    joshua  77.0  78.0  60.0     60.0    96.0    371\n",
      "9     10   109     johan  34.0  67.0  78.0     78.0    56.0    313\n",
      "10    11   110  kamalesh  56.0  45.0  77.0     77.0    77.0    332\n",
      "11    12   111      mani  78.0   4.0   4.0      4.0    34.0    124\n",
      "12    13   112     kumar  67.0  33.0   6.0     34.0    96.0    236\n",
      "13    14   113    suresh   NaN   NaN   NaN      NaN     NaN      0\n",
      "14    15   114    ramesh  45.0  99.0  96.0     78.0    77.0    395\n",
      "15    16   115    harish   4.0  76.0  56.0     77.0    78.0    291\n",
      "16    17   116     gopal  33.0  45.0  77.0      4.0    96.0    255\n",
      "17    18   117    rampal  68.0   4.0  34.0      6.0    56.0    168\n",
      "18    19   118      paul  99.0  33.0  33.0     76.0    77.0    318\n",
      "19    20   119   kishore  76.0  68.0  68.0     45.0    77.0    334\n",
      "DROPPED DATAFRAME:\n",
      "    S.No  roll      name   eng   tam  math  science  social  total\n",
      "0      1   100       ram  60.0   4.0   0.0      6.0    96.0    166\n",
      "1      2   101       som  77.0   6.0   4.0     78.0    56.0    221\n",
      "2      3   102      sita  56.0  78.0   6.0     96.0    77.0    313\n",
      "3      4   103      gita   4.0  96.0  78.0     56.0    34.0    268\n",
      "4      5   104     meera   6.0  56.0  96.0     77.0    96.0    331\n",
      "5      6   105     priya  78.0  77.0  56.0     34.0    56.0    301\n",
      "6      7   106    ganesh  96.0  34.0  77.0     56.0    77.0    340\n",
      "8      9   108    joshua  77.0  78.0  60.0     60.0    96.0    371\n",
      "9     10   109     johan  34.0  67.0  78.0     78.0    56.0    313\n",
      "10    11   110  kamalesh  56.0  45.0  77.0     77.0    77.0    332\n",
      "11    12   111      mani  78.0   4.0   4.0      4.0    34.0    124\n",
      "12    13   112     kumar  67.0  33.0   6.0     34.0    96.0    236\n",
      "14    15   114    ramesh  45.0  99.0  96.0     78.0    77.0    395\n",
      "15    16   115    harish   4.0  76.0  56.0     77.0    78.0    291\n",
      "16    17   116     gopal  33.0  45.0  77.0      4.0    96.0    255\n",
      "17    18   117    rampal  68.0   4.0  34.0      6.0    56.0    168\n",
      "18    19   118      paul  99.0  33.0  33.0     76.0    77.0    318\n",
      "19    20   119   kishore  76.0  68.0  68.0     45.0    77.0    334\n"
     ]
    }
   ],
   "source": [
    "#DROPPING ROWS WITH NaN in any of ITS CELLS\n",
    "print(\"DROP NaN ROWS:\")\n",
    "df=pd.read_excel(\"org.xlsx\")\n",
    "print(\"ORIGINAL FILE\")\n",
    "print(df)\n",
    "x=df.dropna()\n",
    "print(\"DROPPED DATAFRAME:\")\n",
    "print(x)\n",
    "#updating in spreadsheet\n",
    "#print(\"UPDATED LIST:\")\n",
    "#x.to_excel(\"blank.xlsx\")"
   ]
  },
  {
   "cell_type": "code",
   "execution_count": null,
   "id": "f3f0d52a",
   "metadata": {},
   "outputs": [],
   "source": []
  }
 ],
 "metadata": {
  "kernelspec": {
   "display_name": "Python 3 (ipykernel)",
   "language": "python",
   "name": "python3"
  },
  "language_info": {
   "codemirror_mode": {
    "name": "ipython",
    "version": 3
   },
   "file_extension": ".py",
   "mimetype": "text/x-python",
   "name": "python",
   "nbconvert_exporter": "python",
   "pygments_lexer": "ipython3",
   "version": "3.11.5"
  }
 },
 "nbformat": 4,
 "nbformat_minor": 5
}
