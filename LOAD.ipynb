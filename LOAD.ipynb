{
 "cells": [
  {
   "cell_type": "code",
   "execution_count": 15,
   "id": "2f941c5e",
   "metadata": {},
   "outputs": [
    {
     "name": "stdout",
     "output_type": "stream",
     "text": [
      "     SNO. FIRST NAME        DESIGNATION  GENDER  LOGIN TIME       SALARY  \\\n",
      "0       1   A. Morin            MANAGER    MALE    5.000000   50000.0000   \n",
      "1       2   A. Morin                CEO  FEMALE    3.000000  100000.0000   \n",
      "2       3   A. Morin                 DC    MALE    6.000000   20000.0000   \n",
      "3       4   A. Morin                 PC    MALE   10.000000   35000.0000   \n",
      "4       5   A. Morin         SECRETATRY  FEMALE   11.000000   32000.0000   \n",
      "..    ...        ...                ...     ...         ...          ...   \n",
      "235   236     Bonnat                 DS    MALE   -7.802546 -576448.4848   \n",
      "236   237     Bonnat  ASSISTANT MANAGER    MALE   -7.864465 -579151.5152   \n",
      "237   238     Bonnat           MECHANIC  FEMALE   -7.926385 -581854.5455   \n",
      "238   239     Bonnat         TECHNICIAN    MALE   -7.988304 -584557.5758   \n",
      "239   240     Bonnat     CHIEF ENGINEER  FEMALE   -8.050224 -587260.6061   \n",
      "\n",
      "     BONUS        TEAM  \n",
      "0        1          HR  \n",
      "1        2          PR  \n",
      "2        3          KR  \n",
      "3        4   TECHNICAL  \n",
      "4        5    MANAGING  \n",
      "..     ...         ...  \n",
      "235    236          PR  \n",
      "236    237          KR  \n",
      "237    238   TECHNICAL  \n",
      "238    239    MANAGING  \n",
      "239    240  ACCOUNTING  \n",
      "\n",
      "[240 rows x 8 columns]\n"
     ]
    }
   ],
   "source": [
    "import pandas as pd\n",
    "d=pd.read_csv(\"EMPLOYER - Sheet1.csv\")\n",
    "print(d)"
   ]
  },
  {
   "cell_type": "code",
   "execution_count": 16,
   "id": "b9678fe2",
   "metadata": {},
   "outputs": [
    {
     "name": "stdout",
     "output_type": "stream",
     "text": [
      "Columns Index(['SNO.', 'FIRST NAME', 'DESIGNATION', 'GENDER', 'LOGIN TIME', 'SALARY',\n",
      "       'BONUS', 'TEAM'],\n",
      "      dtype='object')\n",
      "(240, 8)\n"
     ]
    }
   ],
   "source": [
    "df=pd.DataFrame(d)\n",
    "print(\"Columns\",df.columns)\n",
    "print(df.shape)"
   ]
  },
  {
   "cell_type": "code",
   "execution_count": 17,
   "id": "48b68f8d",
   "metadata": {},
   "outputs": [
    {
     "name": "stdout",
     "output_type": "stream",
     "text": [
      "Team 0              HR\n",
      "1              PR\n",
      "2              KR\n",
      "3       TECHNICAL\n",
      "4        MANAGING\n",
      "          ...    \n",
      "235            PR\n",
      "236            KR\n",
      "237     TECHNICAL\n",
      "238      MANAGING\n",
      "239    ACCOUNTING\n",
      "Name: TEAM, Length: 240, dtype: object\n"
     ]
    }
   ],
   "source": [
    "print(\"Team\",df['TEAM'])"
   ]
  },
  {
   "cell_type": "code",
   "execution_count": 18,
   "id": "d03e8a74",
   "metadata": {},
   "outputs": [
    {
     "name": "stdout",
     "output_type": "stream",
     "text": [
      "   SNO. FIRST NAME        DESIGNATION  GENDER  LOGIN TIME   SALARY  BONUS  \\\n",
      "5     6   A. Morin                 DS  FEMALE         3.0  40000.0      6   \n",
      "6     7   A. Morin  ASSISTANT MANAGER    MALE         4.0  90000.0      7   \n",
      "7     8   A. Morin           MECHANIC    MALE         1.0  40000.0      8   \n",
      "8     9   A. Morin         TECHNICIAN    MALE        12.0  50000.0      9   \n",
      "9    10   A. Morin     CHIEF ENGINEER  FEMALE        10.0   9000.0     10   \n",
      "\n",
      "         TEAM  \n",
      "5  ACCOUNTING  \n",
      "6    CLEANING  \n",
      "7    SWEEPING  \n",
      "8        FOOD  \n",
      "9          HR  \n"
     ]
    }
   ],
   "source": [
    "print(df[5:10])#(n-1)"
   ]
  },
  {
   "cell_type": "code",
   "execution_count": 19,
   "id": "bcab4dc4",
   "metadata": {},
   "outputs": [
    {
     "name": "stdout",
     "output_type": "stream",
     "text": [
      "Particular person details SNO.                  3\n",
      "FIRST NAME     A. Morin\n",
      "DESIGNATION          DC\n",
      "GENDER             MALE\n",
      "LOGIN TIME          6.0\n",
      "SALARY          20000.0\n",
      "BONUS                 3\n",
      "TEAM                 KR\n",
      "Name: 2, dtype: object\n"
     ]
    }
   ],
   "source": [
    "print(\"Particular person details\",df.loc[2])"
   ]
  },
  {
   "cell_type": "code",
   "execution_count": 20,
   "id": "6ee59534",
   "metadata": {},
   "outputs": [
    {
     "name": "stdout",
     "output_type": "stream",
     "text": [
      "   SNO. FIRST NAME DESIGNATION GENDER  LOGIN TIME   SALARY  BONUS  TEAM\n",
      "0     1   A. Morin     MANAGER   MALE         5.0  50000.0      1    HR\n",
      "8     9   A. Morin  TECHNICIAN   MALE        12.0  50000.0      9  FOOD\n"
     ]
    }
   ],
   "source": [
    "print(d.loc[d['SALARY']==50000])"
   ]
  },
  {
   "cell_type": "code",
   "execution_count": 21,
   "id": "c4287f75",
   "metadata": {},
   "outputs": [
    {
     "name": "stdout",
     "output_type": "stream",
     "text": [
      "0       50.050050\n",
      "1      100.100100\n",
      "2       20.020020\n",
      "3       35.035035\n",
      "4       32.032032\n",
      "          ...    \n",
      "235   -577.025510\n",
      "236   -579.731246\n",
      "237   -582.436982\n",
      "238   -585.142719\n",
      "239   -587.848455\n",
      "Name: SALARY, Length: 240, dtype: float64\n"
     ]
    }
   ],
   "source": [
    "df=d['SALARY']/999\n",
    "print(df)"
   ]
  },
  {
   "cell_type": "code",
   "execution_count": null,
   "id": "792366c0",
   "metadata": {},
   "outputs": [],
   "source": []
  }
 ],
 "metadata": {
  "kernelspec": {
   "display_name": "Python 3 (ipykernel)",
   "language": "python",
   "name": "python3"
  },
  "language_info": {
   "codemirror_mode": {
    "name": "ipython",
    "version": 3
   },
   "file_extension": ".py",
   "mimetype": "text/x-python",
   "name": "python",
   "nbconvert_exporter": "python",
   "pygments_lexer": "ipython3",
   "version": "3.11.5"
  }
 },
 "nbformat": 4,
 "nbformat_minor": 5
}
