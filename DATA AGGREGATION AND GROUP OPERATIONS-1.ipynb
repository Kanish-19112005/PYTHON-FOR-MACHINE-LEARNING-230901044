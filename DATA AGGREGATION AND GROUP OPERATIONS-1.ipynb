{
 "cells": [
  {
   "cell_type": "code",
   "execution_count": 1,
   "id": "6319fe98",
   "metadata": {},
   "outputs": [
    {
     "name": "stdout",
     "output_type": "stream",
     "text": [
      "Original DataFrame\n",
      "          A      B  C  D\n",
      "0      Abi    one  0  2\n",
      "1     Babu    two  1  5\n",
      "2  Charles  three  2  2\n",
      "3   Darwin    one  2  6\n",
      "4      Abi    two  4  5\n",
      "5  Charles  three  3  1\n",
      "6   Darwin    one  5  0\n"
     ]
    }
   ],
   "source": [
    "import pandas as pd\n",
    "import numpy as np\n",
    "df=pd.DataFrame({'A':['Abi','Babu','Charles','Darwin','Abi','Charles','Darwin'],\n",
    "                'B':['one','two','three','one','two','three','one'],\n",
    "                'C':np.random.randint(7,size=7),\n",
    "                'D':np.random.randint(7,size=7)})\n",
    "print(\"Original DataFrame\\n\",df)"
   ]
  },
  {
   "cell_type": "code",
   "execution_count": 15,
   "id": "ecd0dea7",
   "metadata": {},
   "outputs": [
    {
     "name": "stdout",
     "output_type": "stream",
     "text": [
      "Original Dataframe\n",
      "          A      B  C  D\n",
      "0      Abi    one  0  2\n",
      "1     Babu    two  1  5\n",
      "2  Charles  three  2  2\n",
      "3   Darwin    one  2  6\n",
      "4      Abi    two  4  5\n",
      "5  Charles  three  3  1\n",
      "6   Darwin    one  5  0\n",
      "grouped Dataframe with one column sum\n",
      "          A  C\n",
      "0      Abi  4\n",
      "1     Babu  1\n",
      "2  Charles  5\n",
      "3   Darwin  7\n"
     ]
    }
   ],
   "source": [
    "#one column sum\n",
    "df1=df.groupby(['A'],as_index=False)['C'].sum()\n",
    "print(\"Original Dataframe\\n\",df)\n",
    "print(\"grouped Dataframe with one column sum\\n\",df1)"
   ]
  },
  {
   "cell_type": "code",
   "execution_count": 21,
   "id": "fa7e97e9",
   "metadata": {},
   "outputs": [
    {
     "name": "stdout",
     "output_type": "stream",
     "text": [
      "         A      B  C\n",
      "0      Abi    one  0\n",
      "1      Abi    two  4\n",
      "2     Babu    two  1\n",
      "3  Charles  three  5\n",
      "4   Darwin    one  7\n"
     ]
    }
   ],
   "source": [
    "#multiple column sum\n",
    "df2=df.groupby(['A','B'],as_index=False)['C'].sum()\n",
    "print(df2)"
   ]
  },
  {
   "cell_type": "code",
   "execution_count": 24,
   "id": "4ae3bad8",
   "metadata": {},
   "outputs": [
    {
     "name": "stdout",
     "output_type": "stream",
     "text": [
      "       B  C\n",
      "0    one  7\n",
      "1  three  5\n",
      "2    two  5\n"
     ]
    }
   ],
   "source": [
    "df2=df.groupby(['B'],as_index=False)['C'].sum()\n",
    "print(df2)"
   ]
  },
  {
   "cell_type": "code",
   "execution_count": 18,
   "id": "57696c9f",
   "metadata": {},
   "outputs": [
    {
     "name": "stdout",
     "output_type": "stream",
     "text": [
      "Original Dataframe\n",
      "          A      B  C  D\n",
      "0      Abi    one  0  2\n",
      "1     Babu    two  1  5\n",
      "2  Charles  three  2  2\n",
      "3   Darwin    one  2  6\n",
      "4      Abi    two  4  5\n",
      "5  Charles  three  3  1\n",
      "6   Darwin    one  5  0\n",
      "grouped Dataframe with one column sum\n",
      "          A           B  C  D\n",
      "0      Abi      onetwo  4  7\n",
      "1     Babu         two  1  5\n",
      "2  Charles  threethree  5  3\n",
      "3   Darwin      oneone  7  6\n"
     ]
    }
   ],
   "source": [
    "df1=df.groupby(['A'],as_index=False).sum()\n",
    "print(\"Original Dataframe\\n\",df)\n",
    "print(\"grouped Dataframe with one column sum\\n\",df1)"
   ]
  },
  {
   "cell_type": "code",
   "execution_count": 28,
   "id": "d5403cae",
   "metadata": {},
   "outputs": [
    {
     "name": "stdout",
     "output_type": "stream",
     "text": [
      "         A      B  C  D\n",
      "0      Abi    one  0  2\n",
      "1      Abi    two  4  5\n",
      "2     Babu    two  1  5\n",
      "3  Charles  three  5  3\n",
      "4   Darwin    one  7  6\n"
     ]
    }
   ],
   "source": [
    "df3=df.groupby(['A','B'],as_index=False)[['C','D']].sum()\n",
    "print(df3)"
   ]
  },
  {
   "cell_type": "code",
   "execution_count": 29,
   "id": "487c3e75",
   "metadata": {},
   "outputs": [
    {
     "name": "stdout",
     "output_type": "stream",
     "text": [
      "  Category  Sales  Profit\n",
      "0        A    100      10\n",
      "1        B    200      15\n",
      "2        C    150      20\n",
      "3        A    150      25\n",
      "4        B    130      30\n",
      "5        C    200      15\n",
      "         Sales        Profit    \n",
      "           sum   mean    sum max\n",
      "Category                        \n",
      "A          250  125.0     35  25\n",
      "B          330  165.0     45  30\n",
      "C          350  175.0     35  20\n"
     ]
    }
   ],
   "source": [
    "#using groupby() with agg()\n",
    "import pandas as pd\n",
    "df=pd.DataFrame({\n",
    "    'Category':['A','B','C','A','B','C'],\n",
    "    'Sales':[100,200,150,150,130,200],\n",
    "    'Profit':[10,15,20,25,30,15]\n",
    "})\n",
    "print(df)\n",
    "df1=df.groupby('Category').agg({'Sales':['sum','mean'],'Profit':['sum','max']})\n",
    "print(df1)"
   ]
  },
  {
   "cell_type": "code",
   "execution_count": 35,
   "id": "d928e892",
   "metadata": {},
   "outputs": [
    {
     "name": "stdout",
     "output_type": "stream",
     "text": [
      "     marks                          attend      \n",
      "       sum  mean max min        std    sum  mean\n",
      "Stud                                            \n",
      "a      121  60.5  61  60   0.707107    151  75.5\n",
      "b      141  70.5  71  70   0.707107    153  76.5\n",
      "c      130  65.0  74  56  12.727922    145  72.5\n"
     ]
    }
   ],
   "source": [
    "#for student marks\n",
    "df=pd.DataFrame({'Stud':['a','b','c','a','c','b'],\n",
    "                'marks':[60,71,74,61,56,70],\n",
    "                'attend':[75,93,89,76,56,60],\n",
    "                })\n",
    "df1=df.groupby('Stud').agg({'marks':['sum','mean','max','min','std'],'attend':['sum','mean']})\n",
    "print(df1)"
   ]
  },
  {
   "cell_type": "code",
   "execution_count": null,
   "id": "1ecdf223",
   "metadata": {},
   "outputs": [],
   "source": []
  }
 ],
 "metadata": {
  "kernelspec": {
   "display_name": "Python 3 (ipykernel)",
   "language": "python",
   "name": "python3"
  },
  "language_info": {
   "codemirror_mode": {
    "name": "ipython",
    "version": 3
   },
   "file_extension": ".py",
   "mimetype": "text/x-python",
   "name": "python",
   "nbconvert_exporter": "python",
   "pygments_lexer": "ipython3",
   "version": "3.11.5"
  }
 },
 "nbformat": 4,
 "nbformat_minor": 5
}
