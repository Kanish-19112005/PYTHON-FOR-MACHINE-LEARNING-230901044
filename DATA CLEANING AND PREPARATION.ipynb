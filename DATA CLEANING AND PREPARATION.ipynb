{
 "cells": [
  {
   "cell_type": "code",
   "execution_count": 6,
   "id": "9993d90d",
   "metadata": {},
   "outputs": [
    {
     "name": "stdout",
     "output_type": "stream",
     "text": [
      "ORIGINAL DATAFRAME with NaN\n",
      "         one       two     three\n",
      "a  0.332702  1.096137  0.767823\n",
      "b -0.932717  1.148707  0.782676\n",
      "c       NaN       NaN       NaN\n",
      "d -1.401756  0.189671  0.214360\n",
      "e       NaN       NaN       NaN\n",
      "f -1.435522  0.430696  0.204984\n",
      "DROPPED DATAFRAME\n",
      "         one       two     three\n",
      "a  0.332702  1.096137  0.767823\n",
      "b -0.932717  1.148707  0.782676\n",
      "d -1.401756  0.189671  0.214360\n",
      "f -1.435522  0.430696  0.204984\n"
     ]
    }
   ],
   "source": [
    "#REINDEXING AND DROP\n",
    "import pandas as pd\n",
    "import numpy as np\n",
    "df=pd.DataFrame(np.random.randn(4,3),index=['a','b','d','f'],\n",
    "               columns=['one','two','three'])\n",
    "df=df.reindex(['a','b','c','d','e','f'])\n",
    "print(\"ORIGINAL DATAFRAME with NaN\\n\",df)\n",
    "print(\"DROPPED DATAFRAME\\n\",df.dropna())"
   ]
  },
  {
   "cell_type": "code",
   "execution_count": 14,
   "id": "77c767fc",
   "metadata": {},
   "outputs": [
    {
     "name": "stdout",
     "output_type": "stream",
     "text": [
      "ORIGINAL DATAFRAME with NaN\n",
      "         one       two     three\n",
      "a  0.610345  2.468019  1.241989\n",
      "b -0.315126  2.875800  0.539626\n",
      "c       NaN       NaN       NaN\n",
      "NaN REPLACED with 'o'\n",
      "        one       two     three\n",
      "a  0.610345  2.468019  1.241989\n",
      "b -0.315126  2.875800  0.539626\n",
      "c  5.000000  5.000000  5.000000\n"
     ]
    }
   ],
   "source": [
    "#REPLACING NAN WITH FILLNA\n",
    "import pandas as pd\n",
    "import numpy as np\n",
    "df=pd.DataFrame(np.random.randn(4,3),index=['a','b','d','f'],\n",
    "               columns=['one','two','three'])\n",
    "df=df.reindex(['a','b','c'])\n",
    "print(\"ORIGINAL DATAFRAME with NaN\\n\",df)\n",
    "print(\"NaN REPLACED with 'o'\")\n",
    "print(df.fillna(5))"
   ]
  },
  {
   "cell_type": "code",
   "execution_count": 15,
   "id": "eb1137d9",
   "metadata": {},
   "outputs": [
    {
     "name": "stdout",
     "output_type": "stream",
     "text": [
      "ORIGINAL DATAFRAME with NaN\n",
      "         one       two     three\n",
      "a  1.392908  0.655801 -0.712033\n",
      "b -0.118810 -0.203114  1.788137\n",
      "c       NaN       NaN       NaN\n",
      "d  0.581012  0.192225  1.506077\n",
      "e       NaN       NaN       NaN\n",
      "f  0.945205  1.818632 -0.028508\n",
      "NaN WITH TRUE FILL\n",
      "a    False\n",
      "b    False\n",
      "c     True\n",
      "d    False\n",
      "e     True\n",
      "f    False\n",
      "Name: one, dtype: bool\n"
     ]
    }
   ],
   "source": [
    "# IS NULL FUNCTION\n",
    "import pandas as pd\n",
    "import numpy as np\n",
    "df=pd.DataFrame(np.random.randn(4,3),index=['a','b','d','f'],\n",
    "               columns=['one','two','three'])\n",
    "df=df.reindex(['a','b','c','d','e','f'])\n",
    "print(\"ORIGINAL DATAFRAME with NaN\\n\",df)\n",
    "print(\"NaN WITH TRUE FILL\")\n",
    "print(df['one'].isnull())"
   ]
  },
  {
   "cell_type": "code",
   "execution_count": 18,
   "id": "23d11b28",
   "metadata": {},
   "outputs": [
    {
     "name": "stdout",
     "output_type": "stream",
     "text": [
      "ORIGINAL DATAFRAME with NaN\n",
      "         one       two     three\n",
      "a -0.072276  1.470502 -1.656771\n",
      "b -0.787754  0.743290 -1.181253\n",
      "c       NaN       NaN       NaN\n",
      "d  0.103451  0.614430  0.768039\n",
      "e       NaN       NaN       NaN\n",
      "f  0.012438  0.127895  0.288324\n",
      "NaN FILLED WITH BACKFILL\n",
      "        one       two     three\n",
      "a -0.072276  1.470502 -1.656771\n",
      "b -0.787754  0.743290 -1.181253\n",
      "c  0.103451  0.614430  0.768039\n",
      "d  0.103451  0.614430  0.768039\n",
      "e  0.012438  0.127895  0.288324\n",
      "f  0.012438  0.127895  0.288324\n",
      "NaN FILLED WITH forwardFILL\n",
      "        one       two     three\n",
      "a -0.072276  1.470502 -1.656771\n",
      "b -0.787754  0.743290 -1.181253\n",
      "c -0.787754  0.743290 -1.181253\n",
      "d  0.103451  0.614430  0.768039\n",
      "e  0.103451  0.614430  0.768039\n",
      "f  0.012438  0.127895  0.288324\n"
     ]
    }
   ],
   "source": [
    "#BACK FILL & FORWARD FILL\n",
    "import pandas as pd\n",
    "import numpy as np\n",
    "df=pd.DataFrame(np.random.randn(4,3),index=['a','b','d','f'],\n",
    "               columns=['one','two','three'])\n",
    "df=df.reindex(['a','b','c','d','e','f'])\n",
    "print(\"ORIGINAL DATAFRAME with NaN\\n\",df)\n",
    "print(\"NaN FILLED WITH BACKFILL\")\n",
    "print(df.fillna(method='bfill'))\n",
    "print(\"NaN FILLED WITH forwardFILL\")\n",
    "print(df.fillna(method='ffill'))"
   ]
  },
  {
   "cell_type": "code",
   "execution_count": 21,
   "id": "cec4c2b5",
   "metadata": {},
   "outputs": [
    {
     "name": "stdout",
     "output_type": "stream",
     "text": [
      "ORIGINAL DATAFRAME\n",
      "    one  two\n",
      "0   10   60\n",
      "1   20   70\n",
      "2   80   80\n",
      "3   40    0\n",
      "4   50   10\n",
      "PRINT DATAFRAME WITH REPLACED VALUES\n",
      "   one  two\n",
      "0    5   60\n",
      "1   20   70\n",
      "2   50   50\n",
      "3   40    0\n",
      "4   50    5\n"
     ]
    }
   ],
   "source": [
    "#REPLACE\n",
    "df=pd.DataFrame({'one':[10,20,80,40,50],\n",
    "                'two':[60,70,80,0,10]})\n",
    "print(\"ORIGINAL DATAFRAME\\n\",df)\n",
    "print(\"PRINT DATAFRAME WITH REPLACED VALUES\")\n",
    "print(df.replace({10:5,80:50}))"
   ]
  },
  {
   "cell_type": "code",
   "execution_count": null,
   "id": "ff16cea3",
   "metadata": {},
   "outputs": [],
   "source": []
  }
 ],
 "metadata": {
  "kernelspec": {
   "display_name": "Python 3 (ipykernel)",
   "language": "python",
   "name": "python3"
  },
  "language_info": {
   "codemirror_mode": {
    "name": "ipython",
    "version": 3
   },
   "file_extension": ".py",
   "mimetype": "text/x-python",
   "name": "python",
   "nbconvert_exporter": "python",
   "pygments_lexer": "ipython3",
   "version": "3.11.5"
  }
 },
 "nbformat": 4,
 "nbformat_minor": 5
}
