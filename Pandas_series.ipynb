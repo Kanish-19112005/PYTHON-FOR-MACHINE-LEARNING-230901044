{
  "nbformat": 4,
  "nbformat_minor": 0,
  "metadata": {
    "colab": {
      "provenance": []
    },
    "kernelspec": {
      "name": "python3",
      "display_name": "Python 3"
    },
    "language_info": {
      "name": "python"
    }
  },
  "cells": [
    {
      "cell_type": "code",
      "execution_count": null,
      "metadata": {
        "colab": {
          "base_uri": "https://localhost:8080/"
        },
        "id": "S6q939pP822e",
        "outputId": "0eb6faed-ebc2-48a3-a859-1fd96b00a039"
      },
      "outputs": [
        {
          "output_type": "stream",
          "name": "stdout",
          "text": [
            "0    k\n",
            "1    a\n",
            "2    n\n",
            "3    i\n",
            "4    s\n",
            "5    h\n",
            "6    k\n",
            "7    a\n",
            "8    r\n",
            "dtype: object\n"
          ]
        }
      ],
      "source": [
        "#basic implementation\n",
        "import pandas as pd\n",
        "import numpy as np\n",
        "arr=np.array(['k','a','n','i','s','h','k','a','r'])\n",
        "a=pd.Series(arr)\n",
        "print(a)"
      ]
    },
    {
      "cell_type": "code",
      "source": [
        "#pandas series from dictionary\n",
        "import pandas as pd\n",
        "import numpy as np\n",
        "arr={'a':0,'b':1,'c':2}\n",
        "a=pd.Series(arr)\n",
        "print(a)"
      ],
      "metadata": {
        "colab": {
          "base_uri": "https://localhost:8080/"
        },
        "id": "_Y9m8uEb9vRR",
        "outputId": "5beed1b2-e4cf-44cb-df6e-8ec154cad084"
      },
      "execution_count": null,
      "outputs": [
        {
          "output_type": "stream",
          "name": "stdout",
          "text": [
            "a    0\n",
            "b    1\n",
            "c    2\n",
            "dtype: int64\n"
          ]
        }
      ]
    },
    {
      "cell_type": "code",
      "source": [
        "#make 0 to 4 indeces as 4\n",
        "import pandas as pd\n",
        "import numpy as np\n",
        "scalar=pd.Series('4',index=[0,1,2,3])\n",
        "print(scalar)"
      ],
      "metadata": {
        "colab": {
          "base_uri": "https://localhost:8080/"
        },
        "id": "vurbBmsZ_dzB",
        "outputId": "36efd962-d7f3-40b8-91a4-ab564b762780"
      },
      "execution_count": null,
      "outputs": [
        {
          "output_type": "stream",
          "name": "stdout",
          "text": [
            "0    4\n",
            "1    4\n",
            "2    4\n",
            "3    4\n",
            "dtype: object\n"
          ]
        }
      ]
    },
    {
      "cell_type": "code",
      "source": [
        "#index, dim, shape, size, values\n",
        "import pandas as pd\n",
        "import numpy as np\n",
        "arr={'a':0,'b':1,'c':2}\n",
        "a=pd.Series(arr)\n",
        "print(\"series:\\n\",a)\n",
        "print(\"index:\",a.index)\n",
        "print(\"values:\",a.values)\n",
        "print(\"shape:\",a.shape)\n",
        "print(\"dimension:\",a.ndim)\n",
        "print(\"size:\",a.size)\n",
        "#for name series\n",
        "print(\"FOR NAME SERIES\")\n",
        "brr=np.array(['k','a','n','i','s','h','k','a','r'])\n",
        "b=pd.Series(brr)\n",
        "print(\"index:\",b.index)\n",
        "\n"
      ],
      "metadata": {
        "colab": {
          "base_uri": "https://localhost:8080/"
        },
        "id": "vN0f1e2GA9Hz",
        "outputId": "98b69a4e-1166-476b-9140-fef0a01f79a7"
      },
      "execution_count": null,
      "outputs": [
        {
          "output_type": "stream",
          "name": "stdout",
          "text": [
            "series:\n",
            " a    0\n",
            "b    1\n",
            "c    2\n",
            "dtype: int64\n",
            "index: Index(['a', 'b', 'c'], dtype='object')\n",
            "values: [0 1 2]\n",
            "shape: (3,)\n",
            "dimension: 1\n",
            "size: 3\n",
            "FOR NAME SERIES\n",
            "index: RangeIndex(start=0, stop=9, step=1)\n"
          ]
        }
      ]
    }
  ]
}