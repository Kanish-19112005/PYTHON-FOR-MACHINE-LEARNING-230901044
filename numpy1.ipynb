{
 "cells": [
  {
   "cell_type": "code",
   "execution_count": 1,
   "id": "5f643d28",
   "metadata": {},
   "outputs": [
    {
     "name": "stdout",
     "output_type": "stream",
     "text": [
      "One dimension array: [1 2 3 4]\n"
     ]
    }
   ],
   "source": [
    "import numpy as np\n",
    "a=np.array([1,2,3,4])\n",
    "print(\"One dimension array:\",a)"
   ]
  },
  {
   "cell_type": "code",
   "execution_count": 3,
   "id": "7bc53524",
   "metadata": {},
   "outputs": [
    {
     "name": "stdout",
     "output_type": "stream",
     "text": [
      "Two dimension array:\n",
      " [[1 2 3 4]\n",
      " [4 5 6 7]]\n"
     ]
    }
   ],
   "source": [
    "import numpy as np\n",
    "b=np.array([[1,2,3,4],[4,5,6,7]])\n",
    "print(\"Two dimension array:\\n\",b)"
   ]
  },
  {
   "cell_type": "code",
   "execution_count": 5,
   "id": "9d878e52",
   "metadata": {},
   "outputs": [
    {
     "name": "stdout",
     "output_type": "stream",
     "text": [
      "Three dimension array: [[ 1  2  3  4]\n",
      " [ 5  6  7  8]\n",
      " [ 9 10 11 12]]\n"
     ]
    }
   ],
   "source": [
    "import numpy as np\n",
    "c=np.array([[1,2,3,4],[5,6,7,8,],[9,10,11,12]])\n",
    "print(\"Three dimension array:\\n\",c)"
   ]
  },
  {
   "cell_type": "code",
   "execution_count": 7,
   "id": "0083bbcd",
   "metadata": {},
   "outputs": [
    {
     "name": "stdout",
     "output_type": "stream",
     "text": [
      "Array with all zeros:\n",
      " [[0. 0. 0. 0.]\n",
      " [0. 0. 0. 0.]\n",
      " [0. 0. 0. 0.]\n",
      " [0. 0. 0. 0.]]\n"
     ]
    }
   ],
   "source": [
    "import numpy as np\n",
    "d=np.zeros((4,4))\n",
    "print(\"Array with all zeros:\\n\",d)"
   ]
  },
  {
   "cell_type": "code",
   "execution_count": 8,
   "id": "3a15d647",
   "metadata": {},
   "outputs": [
    {
     "name": "stdout",
     "output_type": "stream",
     "text": [
      "Array with all zeros:\n",
      " [[0.00752398 0.87828269 0.98560526 0.13994401]\n",
      " [0.20143259 0.82876323 0.64718409 0.94756406]\n",
      " [0.61289593 0.01498698 0.65904014 0.4697168 ]\n",
      " [0.61167881 0.10601821 0.17148939 0.9228532 ]]\n"
     ]
    }
   ],
   "source": [
    "import numpy as np\n",
    "e=np.random.random((4,4))\n",
    "print(\"Array with all zeros:\\n\",e)"
   ]
  },
  {
   "cell_type": "code",
   "execution_count": 11,
   "id": "48baf889",
   "metadata": {},
   "outputs": [
    {
     "name": "stdout",
     "output_type": "stream",
     "text": [
      "Sequence array: [  0  40  80 120 160]\n"
     ]
    }
   ],
   "source": [
    "import numpy as np\n",
    "f=np.arange(0,200,40)\n",
    "print(\"Sequence array:\",f)"
   ]
  },
  {
   "cell_type": "code",
   "execution_count": 12,
   "id": "02dce265",
   "metadata": {},
   "outputs": [
    {
     "name": "stdout",
     "output_type": "stream",
     "text": [
      "Original array:\n",
      " [[ 1  2  3  4]\n",
      " [ 5  6  7  8]\n",
      " [ 9 10 11 12]]\n",
      "New array:\n",
      " [[ 1  2  3]\n",
      " [ 4  5  6]\n",
      " [ 7  8  9]\n",
      " [10 11 12]]\n"
     ]
    }
   ],
   "source": [
    "import numpy as np\n",
    "org=np.array([[1,2,3,4],[5,6,7,8,],[9,10,11,12]])\n",
    "new=org.reshape(4,3)\n",
    "print(\"Original array:\\n\",org)\n",
    "print(\"New array:\\n\",new)\n"
   ]
  },
  {
   "cell_type": "code",
   "execution_count": 13,
   "id": "ae37e246",
   "metadata": {},
   "outputs": [
    {
     "name": "stdout",
     "output_type": "stream",
     "text": [
      "Original array:\n",
      " [[ 1  2  3  4]\n",
      " [ 5  6  7  8]\n",
      " [ 9 10 11 12]]\n",
      "Flattened array: [ 1  2  3  4  5  6  7  8  9 10 11 12]\n"
     ]
    }
   ],
   "source": [
    "import numpy as np\n",
    "org=np.array([[1,2,3,4],[5,6,7,8,],[9,10,11,12]])\n",
    "fl=org.flatten()\n",
    "print(\"Original array:\\n\",org)\n",
    "print(\"Flattened array:\",fl)"
   ]
  },
  {
   "cell_type": "code",
   "execution_count": 17,
   "id": "518a6057",
   "metadata": {},
   "outputs": [
    {
     "name": "stdout",
     "output_type": "stream",
     "text": [
      "Three dimension array:\n",
      " [[[ 1  2  3  4]\n",
      "  [ 5  6  7  8]\n",
      "  [ 9 10 11 12]]\n",
      "\n",
      " [[ 0  2  3  4]\n",
      "  [ 6  3  5  1]\n",
      "  [ 9  0  3  6]]]\n",
      "The dimension of the aray: 3\n"
     ]
    }
   ],
   "source": [
    "\n",
    "import numpy as np\n",
    "ar=np.array([[[1,2,3,4],[5,6,7,8,],[9,10,11,12]],[[0,2,3,4],[6,3,5,1],[9,0,3,6]]])\n",
    "print(\"Three dimension array:\\n\",ar)\n",
    "print(\"The dimension of the aray:\",ar.ndim)"
   ]
  },
  {
   "cell_type": "code",
   "execution_count": 23,
   "id": "957b53aa",
   "metadata": {},
   "outputs": [
    {
     "name": "stdout",
     "output_type": "stream",
     "text": [
      "Shape of the array: (3, 4)\n"
     ]
    }
   ],
   "source": [
    "#array shape\n",
    "print(\"Shape of the array:\",ar.shape)"
   ]
  },
  {
   "cell_type": "code",
   "execution_count": 27,
   "id": "a998e285",
   "metadata": {},
   "outputs": [
    {
     "name": "stdout",
     "output_type": "stream",
     "text": [
      "Type of the array: int64\n"
     ]
    }
   ],
   "source": [
    "#array type\n",
    "print(\"Type of the array:\",ar.dtype)"
   ]
  },
  {
   "cell_type": "code",
   "execution_count": 31,
   "id": "ff74e3b0",
   "metadata": {},
   "outputs": [
    {
     "name": "stdout",
     "output_type": "stream",
     "text": [
      "size of the array: 3\n"
     ]
    }
   ],
   "source": [
    "#size or lenght of array\n",
    "size=len(ar[1])\n",
    "print(\"size of the array:\",size)"
   ]
  },
  {
   "cell_type": "code",
   "execution_count": 1,
   "id": "6776dcc3",
   "metadata": {},
   "outputs": [
    {
     "name": "stdout",
     "output_type": "stream",
     "text": [
      "[1. 2. 3.]\n",
      "float64\n"
     ]
    }
   ],
   "source": [
    "#change of datatype\n",
    "import numpy as np\n",
    "a=np.array([1,2,3])\n",
    "newtype=a.astype('float64')\n",
    "print(newtype)\n",
    "print(newtype.dtype)"
   ]
  },
  {
   "cell_type": "code",
   "execution_count": null,
   "id": "f4e80893",
   "metadata": {},
   "outputs": [],
   "source": []
  }
 ],
 "metadata": {
  "kernelspec": {
   "display_name": "Python 3 (ipykernel)",
   "language": "python",
   "name": "python3"
  },
  "language_info": {
   "codemirror_mode": {
    "name": "ipython",
    "version": 3
   },
   "file_extension": ".py",
   "mimetype": "text/x-python",
   "name": "python",
   "nbconvert_exporter": "python",
   "pygments_lexer": "ipython3",
   "version": "3.11.5"
  }
 },
 "nbformat": 4,
 "nbformat_minor": 5
}
