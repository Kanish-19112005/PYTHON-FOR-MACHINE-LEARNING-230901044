{
 "cells": [
  {
   "cell_type": "code",
   "execution_count": 48,
   "id": "22c3b7f5",
   "metadata": {},
   "outputs": [
    {
     "name": "stdout",
     "output_type": "stream",
     "text": [
      "       a  b  c\n",
      "one    1  2  3\n",
      "two    4  5  6\n",
      "three  7  8  9\n"
     ]
    }
   ],
   "source": [
    "import pandas as pd\n",
    "df=pd.DataFrame([[1,2,3],[4,5,6],[7,8,9]],\n",
    "               index=['one','two','three'],\n",
    "               columns=['a','b','c'])\n",
    "print(df)\n",
    "#here the index and columns ar built in names and not simple variables\n"
   ]
  },
  {
   "cell_type": "code",
   "execution_count": 49,
   "id": "33fa3ead",
   "metadata": {},
   "outputs": [],
   "source": [
    "df.to_excel(\"/Users/student/Desktop/KANISHKAR/shyam.xlsx\") \n",
    "df.to_excel(\"/Users/student/Desktop/KANISHKAR/sundar.xlsx\") "
   ]
  },
  {
   "cell_type": "code",
   "execution_count": 50,
   "id": "30ea136e",
   "metadata": {},
   "outputs": [],
   "source": [
    "df=pd.DataFrame([[10,20,30],[40,50,60],[70,80,90]],\n",
    "               index=['four','five','six'],\n",
    "               columns=['x','y','z'])\n",
    "df.to_excel(\"/Users/student/Desktop/KANISHKAR/sundar.xlsx\",sheet_name=\"sheet1\") \n",
    "#the data is override"
   ]
  },
  {
   "cell_type": "code",
   "execution_count": 51,
   "id": "869d0d14",
   "metadata": {},
   "outputs": [],
   "source": [
    "df=pd.DataFrame([[6,7],[1,2]],\n",
    "               index=['a','b'],\n",
    "               columns=['x','y'])\n",
    "df.to_excel(\"/Users/student/Desktop/KANISHKAR/shyam.xlsx\",sheet_name=\"sheet1\") \n",
    "#the data is override"
   ]
  },
  {
   "cell_type": "code",
   "execution_count": 52,
   "id": "dd1600ce",
   "metadata": {},
   "outputs": [],
   "source": [
    "#APPEND FUNCTION\n",
    "x=pd.read_excel(\"/Users/student/Desktop/KANISHKAR/shyam.xlsx\")\n",
    "y=pd.read_excel(\"/Users/student/Desktop/KANISHKAR/sundar.xlsx\")\n",
    "z=pd.concat([x,y])\n",
    "z.to_excel(\"/Users/student/Desktop/KANISHKAR/ss.xlsx\")"
   ]
  },
  {
   "cell_type": "code",
   "execution_count": null,
   "id": "2078268d",
   "metadata": {},
   "outputs": [],
   "source": []
  }
 ],
 "metadata": {
  "kernelspec": {
   "display_name": "Python 3 (ipykernel)",
   "language": "python",
   "name": "python3"
  },
  "language_info": {
   "codemirror_mode": {
    "name": "ipython",
    "version": 3
   },
   "file_extension": ".py",
   "mimetype": "text/x-python",
   "name": "python",
   "nbconvert_exporter": "python",
   "pygments_lexer": "ipython3",
   "version": "3.11.5"
  }
 },
 "nbformat": 4,
 "nbformat_minor": 5
}
