{
 "cells": [
  {
   "cell_type": "code",
   "execution_count": 3,
   "id": "22c3b7f5",
   "metadata": {},
   "outputs": [
    {
     "name": "stdout",
     "output_type": "stream",
     "text": [
      "       a  b  c\n",
      "one    1  2  3\n",
      "two    4  5  6\n",
      "three  7  8  9\n"
     ]
    }
   ],
   "source": [
    "import pandas as pd\n",
    "df=pd.DataFrame([[1,2,3],[4,5,6],[7,8,9]],\n",
    "               index=['one','two','three'],\n",
    "               columns=['a','b','c'])\n",
    "print(df)\n",
    "#here the index and columns ar built in names and not simple variables\n"
   ]
  },
  {
   "cell_type": "code",
   "execution_count": 4,
   "id": "33fa3ead",
   "metadata": {},
   "outputs": [],
   "source": [
    "df.to_excel(\"/Users/student/Desktop/KANISHKAR/shyam.xlsx\") \n",
    "df.to_excel(\"/Users/student/Desktop/KANISHKAR/sundar.xlsx\") "
   ]
  },
  {
   "cell_type": "code",
   "execution_count": 5,
   "id": "30ea136e",
   "metadata": {},
   "outputs": [],
   "source": [
    "df=pd.DataFrame([[10,20,30],[40,50,60],[70,80,90]],\n",
    "               index=['four','five','six'],\n",
    "               columns=['x','y','z'])\n",
    "df.to_excel(\"/Users/student/Desktop/KANISHKAR/sundar.xlsx\",sheet_name=\"sheet1\") \n",
    "#the data is override"
   ]
  },
  {
   "cell_type": "code",
   "execution_count": 6,
   "id": "869d0d14",
   "metadata": {},
   "outputs": [],
   "source": [
    "df=pd.DataFrame([[6,7],[1,2]],\n",
    "               index=['a','b'],\n",
    "               columns=['x','y'])\n",
    "df.to_excel(\"/Users/student/Desktop/KANISHKAR/shyam.xlsx\",sheet_name=\"sheet1\") \n",
    "#the data is override"
   ]
  },
  {
   "cell_type": "code",
   "execution_count": 7,
   "id": "dd1600ce",
   "metadata": {},
   "outputs": [],
   "source": [
    "#APPEND FUNCTION\n",
    "x=pd.read_excel(\"/Users/student/Desktop/KANISHKAR/shyam.xlsx\")\n",
    "y=pd.read_excel(\"/Users/student/Desktop/KANISHKAR/sundar.xlsx\")\n",
    "z=pd.concat([x,y])\n",
    "z.to_excel(\"/Users/student/Desktop/KANISHKAR/ss.xlsx\")"
   ]
  },
  {
   "cell_type": "code",
   "execution_count": 8,
   "id": "2078268d",
   "metadata": {},
   "outputs": [
    {
     "name": "stdout",
     "output_type": "stream",
     "text": [
      "  Unnamed: 0   x   y     z\n",
      "1          b   1   2   NaN\n",
      "0          a   6   7   NaN\n",
      "0       four  10  20  30.0\n",
      "1       five  40  50  60.0\n",
      "2        six  70  80  90.0\n",
      "  Unnamed: 0   x   y     z\n",
      "1          b   1   2   NaN\n",
      "0          a   6   7   NaN\n",
      "0       four  10  20  30.0\n",
      "1       five  40  50  60.0\n",
      "2        six  70  80  90.0\n"
     ]
    }
   ],
   "source": [
    "#sorting\n",
    "df=z.sort_values([\"x\"])\n",
    "print(df)\n",
    "df.to_excel(\"/Users/student/Desktop/KANISHKAR/shyam.xlsx\")\n",
    "df=z.sort_values([\"y\"])\n",
    "print(df)\n",
    "df.to_excel(\"/Users/student/Desktop/KANISHKAR/shyam.xlsx\")"
   ]
  },
  {
   "cell_type": "code",
   "execution_count": 11,
   "id": "fd8c5dc7",
   "metadata": {},
   "outputs": [
    {
     "name": "stdout",
     "output_type": "stream",
     "text": [
      "   Unnamed: 0.1 Unnamed: 0   x   y     z\n",
      "0             1          b   1   2   NaN\n",
      "1             0          a   6   7   NaN\n",
      "2             0       four  10  20  30.0\n",
      "3             1       five  40  50  60.0\n",
      "4             2        six  70  80  90.0\n",
      "column names as list\n",
      "['Unnamed: 0.1', 'Unnamed: 0', 'x', 'y', 'z']\n",
      "number of rows\n",
      "5\n"
     ]
    }
   ],
   "source": [
    "#column names of list and number of rows\n",
    "df=pd.read_excel(\"/Users/student/Desktop/KANISHKAR/shyam.xlsx\")\n",
    "print(df)\n",
    "print(\"column names as list\")\n",
    "print(list(df))\n",
    "print(\"number of rows\")\n",
    "print(format(len(df)))"
   ]
  },
  {
   "cell_type": "code",
   "execution_count": null,
   "id": "9d5eba14",
   "metadata": {},
   "outputs": [],
   "source": []
  }
 ],
 "metadata": {
  "kernelspec": {
   "display_name": "Python 3 (ipykernel)",
   "language": "python",
   "name": "python3"
  },
  "language_info": {
   "codemirror_mode": {
    "name": "ipython",
    "version": 3
   },
   "file_extension": ".py",
   "mimetype": "text/x-python",
   "name": "python",
   "nbconvert_exporter": "python",
   "pygments_lexer": "ipython3",
   "version": "3.11.5"
  }
 },
 "nbformat": 4,
 "nbformat_minor": 5
}
