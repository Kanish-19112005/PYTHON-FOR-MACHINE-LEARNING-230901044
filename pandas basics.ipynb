{
 "cells": [
  {
   "cell_type": "code",
   "execution_count": 1,
   "id": "a76dbced",
   "metadata": {},
   "outputs": [
    {
     "name": "stdout",
     "output_type": "stream",
     "text": [
      "Empty DataFrame\n",
      "Columns: []\n",
      "Index: []\n"
     ]
    }
   ],
   "source": [
    "import pandas as pd\n",
    "df=pd.DataFrame()\n",
    "print(df)"
   ]
  },
  {
   "cell_type": "code",
   "execution_count": 12,
   "id": "1b92f967",
   "metadata": {},
   "outputs": [
    {
     "name": "stdout",
     "output_type": "stream",
     "text": [
      "\n",
      " series to data frame\n",
      "\n",
      "      emp  ID\n",
      "0     uma  10\n",
      "1    siva  20\n",
      "2  sindhu  30\n",
      "3    ravi  40\n"
     ]
    }
   ],
   "source": [
    "emp=pd.Series(['uma','siva','sindhu','ravi'])\n",
    "id=pd.Series([10,20,30,40])\n",
    "frame={'emp':emp,'ID':id}\n",
    "result=pd.DataFrame(frame)\n",
    "print(\"\\n series to data frame\\n\")\n",
    "print(result)"
   ]
  },
  {
   "cell_type": "code",
   "execution_count": 22,
   "id": "beaa5088",
   "metadata": {},
   "outputs": [
    {
     "name": "stdout",
     "output_type": "stream",
     "text": [
      "\n",
      " extracting one column\n",
      "\n",
      "0       uma\n",
      "1      siva\n",
      "2    sindhu\n",
      "3      ravi\n",
      "Name: emp, dtype: object\n"
     ]
    }
   ],
   "source": [
    "emp=pd.Series(['uma','siva','sindhu','ravi'])\n",
    "id=pd.Series([10,20,30,40])\n",
    "frame={'emp':emp,'ID':id}\n",
    "result=pd.DataFrame(frame)\n",
    "print(\"\\n extracting one column\\n\")\n",
    "print(result['emp'])      "
   ]
  },
  {
   "cell_type": "code",
   "execution_count": 23,
   "id": "3931eec5",
   "metadata": {},
   "outputs": [
    {
     "name": "stdout",
     "output_type": "stream",
     "text": [
      "      emp  ID  age\n",
      "0     uma  10   20\n",
      "1    siva  20   23\n",
      "2  sindhu  30   30\n",
      "3    ravi  40   50\n"
     ]
    }
   ],
   "source": [
    "#adding a new column\n",
    "emp=pd.Series(['uma','siva','sindhu','ravi'])\n",
    "id=pd.Series([10,20,30,40])\n",
    "frame={'emp':emp,'ID':id}\n",
    "result=pd.DataFrame(frame)\n",
    "result['age']=pd.Series([20,23,30,50])\n",
    "print(result)"
   ]
  },
  {
   "cell_type": "code",
   "execution_count": 26,
   "id": "217a5b53",
   "metadata": {},
   "outputs": [
    {
     "name": "stdout",
     "output_type": "stream",
     "text": [
      "      emp  ID\n",
      "0     uma  10\n",
      "1    siva  20\n",
      "2  sindhu  30\n",
      "3    ravi  40\n"
     ]
    }
   ],
   "source": [
    "#deleting a column\n",
    "emp=pd.Series(['uma','siva','sindhu','ravi'])\n",
    "id=pd.Series([10,20,30,40])\n",
    "frame={'emp':emp,'ID':id}\n",
    "result=pd.DataFrame(frame)\n",
    "result['age']=pd.Series([20,23,30,50])\n",
    "del result['age']\n",
    "print(result)"
   ]
  },
  {
   "cell_type": "code",
   "execution_count": 9,
   "id": "c7f2f08c",
   "metadata": {},
   "outputs": [
    {
     "name": "stdout",
     "output_type": "stream",
     "text": [
      "extracting a row\n",
      "\n",
      "emp    siva\n",
      "ID       20\n",
      "Name: 1, dtype: object\n"
     ]
    }
   ],
   "source": [
    "emp=pd.Series(['uma','siva','sindhu','ravi'])\n",
    "id=pd.Series([10,20,30,40])\n",
    "frame={'emp':emp,'ID':id}\n",
    "result=pd.DataFrame(frame)\n",
    "print(\"extracting a row\\n\")\n",
    "print(result.loc[1])"
   ]
  },
  {
   "cell_type": "code",
   "execution_count": 27,
   "id": "06e1b4f4",
   "metadata": {},
   "outputs": [
    {
     "name": "stdout",
     "output_type": "stream",
     "text": [
      "slice rows:\n",
      "       emp  ID\n",
      "1    siva  20\n",
      "2  sindhu  30\n"
     ]
    }
   ],
   "source": [
    "#slice\n",
    "emp=pd.Series(['uma','siva','sindhu','ravi'])\n",
    "id=pd.Series([10,20,30,40])\n",
    "frame={'emp':emp,'ID':id}\n",
    "result=pd.DataFrame(frame)\n",
    "print(\"slice rows:\\n\",result[1:3])"
   ]
  },
  {
   "cell_type": "code",
   "execution_count": 19,
   "id": "b1a687d5",
   "metadata": {},
   "outputs": [
    {
     "name": "stdout",
     "output_type": "stream",
     "text": [
      "adding a new row value\n",
      "       emp  ID\n",
      "0     uma  10\n",
      "1    siva  20\n",
      "2  sindhu  30\n",
      "3    ravi  40\n",
      "0     anu  20\n",
      "1    jinu  19\n"
     ]
    }
   ],
   "source": [
    "#concatenation\n",
    "emp=pd.Series(['uma','siva','sindhu','ravi'])\n",
    "id=pd.Series([10,20,30,40])\n",
    "frame={'emp':emp,'ID':id}\n",
    "result=pd.DataFrame(frame)\n",
    "d2=pd.DataFrame([['anu',20],['jinu',19]],columns=['emp','ID'])\n",
    "print(\"adding a new row value\\n\",pd.concat([result,d2]))"
   ]
  },
  {
   "cell_type": "code",
   "execution_count": 20,
   "id": "6412e749",
   "metadata": {},
   "outputs": [
    {
     "name": "stdout",
     "output_type": "stream",
     "text": [
      "    emp  ID\n",
      "0   uma  10\n",
      "1  siva  20\n",
      "3  ravi  40\n"
     ]
    }
   ],
   "source": [
    "#deleting a row\n",
    "emp=pd.Series(['uma','siva','sindhu','ravi'])\n",
    "id=pd.Series([10,20,30,40])\n",
    "frame={'emp':emp,'ID':id}\n",
    "result=pd.DataFrame(frame)\n",
    "print(result.drop(2))"
   ]
  },
  {
   "cell_type": "code",
   "execution_count": null,
   "id": "c73583eb",
   "metadata": {},
   "outputs": [],
   "source": []
  }
 ],
 "metadata": {
  "kernelspec": {
   "display_name": "Python 3 (ipykernel)",
   "language": "python",
   "name": "python3"
  },
  "language_info": {
   "codemirror_mode": {
    "name": "ipython",
    "version": 3
   },
   "file_extension": ".py",
   "mimetype": "text/x-python",
   "name": "python",
   "nbconvert_exporter": "python",
   "pygments_lexer": "ipython3",
   "version": "3.11.5"
  }
 },
 "nbformat": 4,
 "nbformat_minor": 5
}
