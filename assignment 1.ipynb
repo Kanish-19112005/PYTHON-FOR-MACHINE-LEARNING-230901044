{
 "cells": [
  {
   "cell_type": "code",
   "execution_count": 1,
   "id": "0bc975dc-1b39-4ef7-ad95-e92e15974304",
   "metadata": {},
   "outputs": [
    {
     "name": "stdout",
     "output_type": "stream",
     "text": [
      "Array with all zeros:\n",
      " [[0.92845991 0.64803309 0.00313859 0.21957811]\n",
      " [0.0920874  0.74101494 0.35098483 0.98873576]\n",
      " [0.10078622 0.01175722 0.12995434 0.56890112]]\n"
     ]
    }
   ],
   "source": [
    "import numpy as np\n",
    "e=np.random.random((3,4))\n",
    "print(\"Array with all zeros:\\n\",e)"
   ]
  },
  {
   "cell_type": "code",
   "execution_count": 3,
   "id": "987e2361-0923-481a-9dde-4b76a7a9da64",
   "metadata": {},
   "outputs": [
    {
     "name": "stdout",
     "output_type": "stream",
     "text": [
      "Array with all zeros:\n",
      " [[0. 0. 0. 0.]\n",
      " [0. 0. 0. 0.]\n",
      " [0. 0. 0. 0.]]\n"
     ]
    }
   ],
   "source": [
    "import numpy as np\n",
    "d=np.zeros((3,4))\n",
    "print(\"Array with all zeros:\\n\",d)"
   ]
  },
  {
   "cell_type": "code",
   "execution_count": 4,
   "id": "d429e2ce-7e4c-40bf-8050-28fcaaf15664",
   "metadata": {},
   "outputs": [
    {
     "name": "stdout",
     "output_type": "stream",
     "text": [
      "Sequence array: [ 5  7  9 11 13 15 17 19 21 23 25 27 29]\n"
     ]
    }
   ],
   "source": [
    "import numpy as np\n",
    "f=np.arange(5,30,2)\n",
    "print(\"Sequence array:\",f)"
   ]
  },
  {
   "cell_type": "code",
   "execution_count": 5,
   "id": "d692b0c5-9051-42e0-ae53-fde61f31c905",
   "metadata": {},
   "outputs": [
    {
     "name": "stdout",
     "output_type": "stream",
     "text": [
      "Three dimension array:\n",
      " [[[ 1  2  3  4]\n",
      "  [ 5  6  7  8]\n",
      "  [ 9 10 11 12]]\n",
      "\n",
      " [[ 0  2  3  4]\n",
      "  [ 6  3  5  1]\n",
      "  [ 9  0  3  6]]]\n",
      "The dimension of the aray: 3\n",
      "Shape of the array: (2, 3, 4)\n",
      "Type of the array: int64\n"
     ]
    }
   ],
   "source": [
    "import numpy as np\n",
    "ar=np.array([[[1,2,3,4],[5,6,7,8,],[9,10,11,12]],[[0,2,3,4],[6,3,5,1],[9,0,3,6]]])\n",
    "print(\"Three dimension array:\\n\",ar)\n",
    "print(\"The dimension of the aray:\",ar.ndim)\n",
    "print(\"Shape of the array:\",ar.shape)\n",
    "print(\"Type of the array:\",ar.dtype)"
   ]
  },
  {
   "cell_type": "code",
   "execution_count": 7,
   "id": "5cd6b1cd-748e-445d-9271-16edfd2d1692",
   "metadata": {},
   "outputs": [
    {
     "name": "stdout",
     "output_type": "stream",
     "text": [
      "Original array:\n",
      " [[1 2 3]\n",
      " [4 5 6]]\n",
      "Flattened array: [1 2 3 4 5 6]\n"
     ]
    }
   ],
   "source": [
    "import numpy as np\n",
    "org=np.array([[1,2,3],[4,5,6]])\n",
    "fl=org.flatten()\n",
    "print(\"Original array:\\n\",org)\n",
    "print(\"Flattened array:\",fl)\n"
   ]
  },
  {
   "cell_type": "code",
   "execution_count": null,
   "id": "58034db1-e4fc-465b-be03-d9f3a18b66e4",
   "metadata": {},
   "outputs": [],
   "source": []
  }
 ],
 "metadata": {
  "kernelspec": {
   "display_name": "Python 3 (ipykernel)",
   "language": "python",
   "name": "python3"
  },
  "language_info": {
   "codemirror_mode": {
    "name": "ipython",
    "version": 3
   },
   "file_extension": ".py",
   "mimetype": "text/x-python",
   "name": "python",
   "nbconvert_exporter": "python",
   "pygments_lexer": "ipython3",
   "version": "3.13.2"
  }
 },
 "nbformat": 4,
 "nbformat_minor": 5
}
