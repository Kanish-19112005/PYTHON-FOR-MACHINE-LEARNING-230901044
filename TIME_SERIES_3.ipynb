{
  "nbformat": 4,
  "nbformat_minor": 0,
  "metadata": {
    "colab": {
      "provenance": []
    },
    "kernelspec": {
      "name": "python3",
      "display_name": "Python 3"
    },
    "language_info": {
      "name": "python"
    }
  },
  "cells": [
    {
      "cell_type": "code",
      "execution_count": 1,
      "metadata": {
        "colab": {
          "base_uri": "https://localhost:8080/"
        },
        "id": "-hQR3iOeo2aE",
        "outputId": "2f917414-2ccb-4537-d248-1370f44e7cac"
      },
      "outputs": [
        {
          "output_type": "stream",
          "name": "stdout",
          "text": [
            "Date index:\n",
            " 2011-01-02    0.297367\n",
            "2011-01-05   -0.994191\n",
            "2011-01-07    0.894982\n",
            "2011-01-08    0.630715\n",
            "2011-01-10   -0.744171\n",
            "2011-01-12   -1.229655\n",
            "dtype: float64\n"
          ]
        }
      ],
      "source": [
        "import pandas as pd\n",
        "import numpy as np\n",
        "from datetime import datetime\n",
        "#create a data variable that contains the dates\n",
        "dates=[datetime(2011,1,2),\n",
        "       datetime(2011,1,5),\n",
        "       datetime(2011,1,7),\n",
        "       datetime(2011,1,8),\n",
        "       datetime(2011,1,10),\n",
        "       datetime(2011,1,12)]\n",
        "#with this date object, create a series\n",
        "ts=pd.Series(np.random.randn(6),index=dates)\n",
        "print(\"Date index:\\n\",ts)"
      ]
    },
    {
      "cell_type": "code",
      "source": [
        "#to print index alone\n",
        "print(\"data index alone from the series:\\n\",ts.index)"
      ],
      "metadata": {
        "colab": {
          "base_uri": "https://localhost:8080/"
        },
        "id": "oop9JN3YrAHR",
        "outputId": "55aa1723-ea79-4476-889b-51b31b3827b0"
      },
      "execution_count": 2,
      "outputs": [
        {
          "output_type": "stream",
          "name": "stdout",
          "text": [
            "data index alone from the series:\n",
            " DatetimeIndex(['2011-01-02', '2011-01-05', '2011-01-07', '2011-01-08',\n",
            "               '2011-01-10', '2011-01-12'],\n",
            "              dtype='datetime64[ns]', freq=None)\n"
          ]
        }
      ]
    },
    {
      "cell_type": "code",
      "source": [
        "stamp=ts.index[2]\n",
        "print(\"second index:\\n\",stamp)"
      ],
      "metadata": {
        "colab": {
          "base_uri": "https://localhost:8080/"
        },
        "id": "kUnIGb9SrQWD",
        "outputId": "859724ad-6946-4894-9c46-edd828552db9"
      },
      "execution_count": 3,
      "outputs": [
        {
          "output_type": "stream",
          "name": "stdout",
          "text": [
            "second index:\n",
            " 2011-01-07 00:00:00\n"
          ]
        }
      ]
    },
    {
      "cell_type": "code",
      "source": [
        "#play like a ball with long time series\n",
        "longer_ts=pd.Series(np.random.randn(1000),\n",
        "                    index=pd.date_range(\"2000-01-01\",periods=1000))\n",
        "print(\"Date range upto 1000 days:\\n\",longer_ts)"
      ],
      "metadata": {
        "colab": {
          "base_uri": "https://localhost:8080/"
        },
        "id": "EgjEm8Z-rjNU",
        "outputId": "449d843c-724b-4812-fead-d24181a53cff"
      },
      "execution_count": 5,
      "outputs": [
        {
          "output_type": "stream",
          "name": "stdout",
          "text": [
            "Date range upto 1000 days:\n",
            " 2000-01-01    0.875129\n",
            "2000-01-02    0.493963\n",
            "2000-01-03   -0.094106\n",
            "2000-01-04   -0.811241\n",
            "2000-01-05   -0.835261\n",
            "                ...   \n",
            "2002-09-22    0.168012\n",
            "2002-09-23   -0.576184\n",
            "2002-09-24    1.265842\n",
            "2002-09-25    1.018123\n",
            "2002-09-26   -0.878222\n",
            "Freq: D, Length: 1000, dtype: float64\n"
          ]
        }
      ]
    },
    {
      "cell_type": "code",
      "source": [
        "print(\"date range=2001 year;\\n\",longer_ts[\"2001\"])"
      ],
      "metadata": {
        "colab": {
          "base_uri": "https://localhost:8080/"
        },
        "id": "fP4KYa1ktLTT",
        "outputId": "634be152-e596-4897-c885-c4edc9dd544e"
      },
      "execution_count": 6,
      "outputs": [
        {
          "output_type": "stream",
          "name": "stdout",
          "text": [
            "date range=2001 year;\n",
            " 2001-01-01   -0.795553\n",
            "2001-01-02   -0.720111\n",
            "2001-01-03   -0.690533\n",
            "2001-01-04   -0.880416\n",
            "2001-01-05   -0.093264\n",
            "                ...   \n",
            "2001-12-27    1.014882\n",
            "2001-12-28    0.674342\n",
            "2001-12-29    1.055371\n",
            "2001-12-30   -1.256967\n",
            "2001-12-31   -0.030301\n",
            "Freq: D, Length: 365, dtype: float64\n"
          ]
        }
      ]
    },
    {
      "cell_type": "code",
      "source": [
        "print(\"\\nDate range-05 month 2001 year:\\n\", longer_ts[\"2001-05\"])"
      ],
      "metadata": {
        "colab": {
          "base_uri": "https://localhost:8080/"
        },
        "id": "LNRpPFwzxQA6",
        "outputId": "5fa2d6cc-f9d0-43da-f85a-1b37b045ff22"
      },
      "execution_count": 7,
      "outputs": [
        {
          "output_type": "stream",
          "name": "stdout",
          "text": [
            "\n",
            "Date range-05 month 2001 year:\n",
            " 2001-05-01   -0.039963\n",
            "2001-05-02   -0.569788\n",
            "2001-05-03   -0.988763\n",
            "2001-05-04   -1.381654\n",
            "2001-05-05    1.305988\n",
            "2001-05-06   -0.065209\n",
            "2001-05-07    0.977795\n",
            "2001-05-08   -0.796338\n",
            "2001-05-09    0.140645\n",
            "2001-05-10   -0.028813\n",
            "2001-05-11    0.423963\n",
            "2001-05-12   -0.558225\n",
            "2001-05-13    1.276272\n",
            "2001-05-14    1.171275\n",
            "2001-05-15    0.748080\n",
            "2001-05-16    0.741939\n",
            "2001-05-17   -0.237668\n",
            "2001-05-18    0.427723\n",
            "2001-05-19    1.175179\n",
            "2001-05-20    0.444541\n",
            "2001-05-21   -0.391745\n",
            "2001-05-22   -0.351650\n",
            "2001-05-23    1.908135\n",
            "2001-05-24    0.485436\n",
            "2001-05-25   -1.409794\n",
            "2001-05-26   -0.524293\n",
            "2001-05-27    0.254124\n",
            "2001-05-28    1.081409\n",
            "2001-05-29   -0.116474\n",
            "2001-05-30    0.627729\n",
            "2001-05-31   -0.032277\n",
            "Freq: D, dtype: float64\n"
          ]
        }
      ]
    },
    {
      "cell_type": "code",
      "source": [
        "print(\"\\nDate range-first few dates in 2000 year:\\n\",longer_ts[\"2000\"].head())"
      ],
      "metadata": {
        "colab": {
          "base_uri": "https://localhost:8080/"
        },
        "id": "UAxQeBWfxkWs",
        "outputId": "dd5891c3-767e-4ba7-9b25-2c5d9604991b"
      },
      "execution_count": 8,
      "outputs": [
        {
          "output_type": "stream",
          "name": "stdout",
          "text": [
            "\n",
            "Date range-first few dates in 2000 year:\n",
            " 2000-01-01    0.875129\n",
            "2000-01-02    0.493963\n",
            "2000-01-03   -0.094106\n",
            "2000-01-04   -0.811241\n",
            "2000-01-05   -0.835261\n",
            "Freq: D, dtype: float64\n"
          ]
        }
      ]
    },
    {
      "cell_type": "code",
      "source": [
        "print(\"\\nDate range-first 15 dates in 02 month 2001 year:\\n\",longer_ts[\"2000-02\"].head(15))"
      ],
      "metadata": {
        "colab": {
          "base_uri": "https://localhost:8080/"
        },
        "id": "-yIbjcNvxooT",
        "outputId": "5b753435-e513-4cb6-f665-1b0940938870"
      },
      "execution_count": 9,
      "outputs": [
        {
          "output_type": "stream",
          "name": "stdout",
          "text": [
            "\n",
            "Date range-first 15 dates in 02 month 2001 year:\n",
            " 2000-02-01   -0.832595\n",
            "2000-02-02   -0.877678\n",
            "2000-02-03    0.611162\n",
            "2000-02-04   -0.204403\n",
            "2000-02-05   -0.333978\n",
            "2000-02-06   -0.148823\n",
            "2000-02-07   -1.862913\n",
            "2000-02-08    0.056524\n",
            "2000-02-09   -0.111540\n",
            "2000-02-10   -1.448529\n",
            "2000-02-11   -1.353635\n",
            "2000-02-12   -1.167976\n",
            "2000-02-13    0.084677\n",
            "2000-02-14   -1.309083\n",
            "2000-02-15    0.903726\n",
            "Freq: D, dtype: float64\n"
          ]
        }
      ]
    },
    {
      "cell_type": "code",
      "source": [
        "print(\"date range from 26-9-2001 to end:\\n\",longer_ts[datetime(2000,9,26):])"
      ],
      "metadata": {
        "colab": {
          "base_uri": "https://localhost:8080/"
        },
        "id": "gQ_XKBiGyJaV",
        "outputId": "f0db810f-3189-4933-d710-e2f7dec5d9cb"
      },
      "execution_count": 12,
      "outputs": [
        {
          "output_type": "stream",
          "name": "stdout",
          "text": [
            "date range from 26-9-2001 to end:\n",
            " 2000-09-26   -2.210003\n",
            "2000-09-27   -2.903145\n",
            "2000-09-28   -0.056386\n",
            "2000-09-29    0.345618\n",
            "2000-09-30    0.200656\n",
            "                ...   \n",
            "2002-09-22    0.168012\n",
            "2002-09-23   -0.576184\n",
            "2002-09-24    1.265842\n",
            "2002-09-25    1.018123\n",
            "2002-09-26   -0.878222\n",
            "Freq: D, Length: 731, dtype: float64\n"
          ]
        }
      ]
    },
    {
      "cell_type": "code",
      "source": [
        "print(\"date range from 29-9-2001 to 25-9-2002:\\n\",longer_ts[datetime(2001,9,29):datetime(2002,9,25)])"
      ],
      "metadata": {
        "colab": {
          "base_uri": "https://localhost:8080/"
        },
        "id": "mvTRA1Zvy6g5",
        "outputId": "6eef230a-a460-49ef-db7f-3f4bc8bbef28"
      },
      "execution_count": 13,
      "outputs": [
        {
          "output_type": "stream",
          "name": "stdout",
          "text": [
            "date range from 29-9-2001 to 25-9-2002:\n",
            " 2001-09-29   -0.826572\n",
            "2001-09-30   -0.263751\n",
            "2001-10-01   -1.047903\n",
            "2001-10-02    0.807121\n",
            "2001-10-03   -0.625486\n",
            "                ...   \n",
            "2002-09-21   -0.364259\n",
            "2002-09-22    0.168012\n",
            "2002-09-23   -0.576184\n",
            "2002-09-24    1.265842\n",
            "2002-09-25    1.018123\n",
            "Freq: D, Length: 362, dtype: float64\n"
          ]
        }
      ]
    }
  ]
}