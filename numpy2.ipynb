{
 "cells": [
  {
   "cell_type": "code",
   "execution_count": 4,
   "id": "fd991891",
   "metadata": {},
   "outputs": [
    {
     "name": "stdout",
     "output_type": "stream",
     "text": [
      "org: [1 2 3 4 5 6 7 8 9] \n",
      "sliced: [3 4 5]\n"
     ]
    }
   ],
   "source": [
    "#slicing without step\n",
    "import numpy as np\n",
    "#create a numpy array\n",
    "arr=np.array([1,2,3,4,5,6,7,8,9])\n",
    "#slice the index from 2 to 5\n",
    "slice1=arr[2:5] #a to b-1\n",
    "print(\"org:\",arr,\"\\nsliced:\",slice1)"
   ]
  },
  {
   "cell_type": "code",
   "execution_count": 5,
   "id": "9c163d05",
   "metadata": {},
   "outputs": [
    {
     "name": "stdout",
     "output_type": "stream",
     "text": [
      "[1 3 5 7 9]\n",
      "[1 4 7]\n",
      "[1 5 9]\n"
     ]
    }
   ],
   "source": [
    "#slicing with step\n",
    "slice2=arr[::2]\n",
    "print(slice2)\n",
    "slice3=arr[::3]\n",
    "print(slice3)\n",
    "slice4=arr[::4]\n",
    "print(slice4)"
   ]
  },
  {
   "cell_type": "code",
   "execution_count": 6,
   "id": "99ebaa4a",
   "metadata": {},
   "outputs": [
    {
     "name": "stdout",
     "output_type": "stream",
     "text": [
      "reverse: [9 8 7 6 5 4 3 2 1]\n"
     ]
    }
   ],
   "source": [
    "#reversiing\n",
    "revarr=arr[::-1]\n",
    "print(\"reverse:\",revarr)"
   ]
  },
  {
   "cell_type": "code",
   "execution_count": 11,
   "id": "f8b80d95",
   "metadata": {},
   "outputs": [
    {
     "name": "stdout",
     "output_type": "stream",
     "text": [
      "sub array1:\n",
      " [[2 3]\n",
      " [5 6]]\n",
      "sub array2:\n",
      " [[1 2]\n",
      " [4 5]\n",
      " [7 8]]\n",
      "subarray3:\n",
      " [[1]\n",
      " [4]]\n"
     ]
    }
   ],
   "source": [
    "#slicing multidimensional array\n",
    "arr=np.array([[1,2,3],[4,5,6],[7,8,9]])\n",
    "subarray1=arr[0:2,1:3]\n",
    "print(\"sub array1:\\n\",subarray1)\n",
    "subarray2=arr[0:3,0:2]\n",
    "print(\"sub array2:\\n\",subarray2)\n",
    "print(\"subarray3:\\n\",arr[:2,:1])"
   ]
  },
  {
   "cell_type": "code",
   "execution_count": 19,
   "id": "f56fb2c3",
   "metadata": {},
   "outputs": [
    {
     "name": "stdout",
     "output_type": "stream",
     "text": [
      "column1:\n",
      " [1 4 7]\n",
      "row1:\n",
      " [1 2 3]\n",
      "every other row:\n",
      " [[1 2 3]\n",
      " [7 8 9]]\n"
     ]
    }
   ],
   "source": [
    "#extract first column \n",
    "col1=arr[:,0]\n",
    "print(\"column1:\\n\",col1)\n",
    "#extract first row\n",
    "print(\"row1:\\n\",arr[0,:])\n",
    "#to return every other row\n",
    "print(\"every other row:\\n\",arr[0:3:2])"
   ]
  },
  {
   "cell_type": "code",
   "execution_count": 20,
   "id": "219ee62a",
   "metadata": {},
   "outputs": [
    {
     "name": "stdout",
     "output_type": "stream",
     "text": [
      "10\n",
      "40\n"
     ]
    }
   ],
   "source": [
    "#array indexing for 1D arrray\n",
    "import numpy as np\n",
    "import array\n",
    "arr=array.array('i',[10,20,30,40,50])\n",
    "print(arr[0])\n",
    "print(arr[3])"
   ]
  },
  {
   "cell_type": "code",
   "execution_count": 22,
   "id": "1bdb0629",
   "metadata": {},
   "outputs": [
    {
     "name": "stdout",
     "output_type": "stream",
     "text": [
      "1\n",
      "8\n"
     ]
    }
   ],
   "source": [
    "#array indexing for 2D array\n",
    "import numpy as np\n",
    "arr2=np.array([[1,2,3],[4,5,6],[7,8,9]])\n",
    "print(arr2[0,0])\n",
    "print(arr2[2,1])"
   ]
  },
  {
   "cell_type": "code",
   "execution_count": 35,
   "id": "683c0688",
   "metadata": {},
   "outputs": [
    {
     "name": "stdout",
     "output_type": "stream",
     "text": [
      "basic indexing: 20\n",
      "nagative indexing: 50\n",
      "slicing indexing: [20 30 40]\n",
      "boolean indexing: [30 40 50]\n",
      "fancy indexing: [20 40]\n"
     ]
    }
   ],
   "source": [
    "#indexing technique\n",
    "\n",
    "#1.basic indexing\n",
    "import numpy as np\n",
    "ar=np.array([10,20,30,40,50])\n",
    "print(\"basic indexing:\",ar[1])\n",
    "\n",
    "#2.negative indexing\n",
    "print(\"nagative indexing:\",arr[-1])\n",
    "\n",
    "#3.slicing indexing\n",
    "print(\"slicing indexing:\",ar[1:4])\n",
    "\n",
    "#4.boolean indexing\n",
    "arr=np.array([10,20,30,40,50])\n",
    "print(\"boolean indexing:\",arr[arr>25])\n",
    "\n",
    "#5.fancy indexing\n",
    "print(\"fancy indexing:\",arr[[1,3]])"
   ]
  },
  {
   "cell_type": "code",
   "execution_count": 7,
   "id": "9400fb7a",
   "metadata": {},
   "outputs": [
    {
     "name": "stdout",
     "output_type": "stream",
     "text": [
      "horizontal join:\n",
      " [[1 2 5 6]\n",
      " [3 4 7 8]]\n",
      "vertical join:\n",
      " [[1 2]\n",
      " [3 4]\n",
      " [5 6]\n",
      " [7 8]]\n",
      "depth join:\n",
      " [[[1 5]\n",
      "  [2 6]]\n",
      "\n",
      " [[3 7]\n",
      "  [4 8]]]\n"
     ]
    }
   ],
   "source": [
    "#joining horizontal and vertical and depth\n",
    "import numpy as np\n",
    "arr1=np.array([[1,2],[3,4]])\n",
    "arr2=np.array([[5,6],[7,8]])\n",
    "#horizontal joining\n",
    "result=np.hstack((arr1,arr2))\n",
    "print(\"horizontal join:\\n\",result)\n",
    "#vertical joining\n",
    "result=np.vstack((arr1,arr2))\n",
    "print(\"vertical join:\\n\",result)\n",
    "#depth joining\n",
    "result=np.dstack((arr1,arr2))\n",
    "print(\"depth join:\\n\",result)"
   ]
  },
  {
   "cell_type": "code",
   "execution_count": 11,
   "id": "c129380d",
   "metadata": {},
   "outputs": [
    {
     "name": "stdout",
     "output_type": "stream",
     "text": [
      "equal splitted: [array([1, 2]), array([3, 4]), array([5, 6])]\n",
      "unequal array split: [array([1, 2]), array([3, 4]), array([5])]\n"
     ]
    }
   ],
   "source": [
    "#array splitting\n",
    "import numpy as np\n",
    "arr=np.array([1,2,3,4,5,6])\n",
    "result=np.split(arr,3)\n",
    "print(\"equal splitted:\",result)\n",
    "#unequal split\n",
    "arr=np.array([1,2,3,4,5])\n",
    "result=np.array_split(arr,3)\n",
    "print(\"unequal array split:\",result)"
   ]
  },
  {
   "cell_type": "code",
   "execution_count": null,
   "id": "0145d229",
   "metadata": {},
   "outputs": [],
   "source": []
  }
 ],
 "metadata": {
  "kernelspec": {
   "display_name": "Python 3 (ipykernel)",
   "language": "python",
   "name": "python3"
  },
  "language_info": {
   "codemirror_mode": {
    "name": "ipython",
    "version": 3
   },
   "file_extension": ".py",
   "mimetype": "text/x-python",
   "name": "python",
   "nbconvert_exporter": "python",
   "pygments_lexer": "ipython3",
   "version": "3.11.5"
  }
 },
 "nbformat": 4,
 "nbformat_minor": 5
}
