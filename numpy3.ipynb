{
 "cells": [
  {
   "cell_type": "code",
   "execution_count": 8,
   "id": "6d8739c6",
   "metadata": {},
   "outputs": [
    {
     "name": "stdout",
     "output_type": "stream",
     "text": [
      "index of 6: (array([1, 4]),)\n",
      "index of 7: (array([3]),)\n",
      "the index elements of elements divisble by 2: (array([1, 2, 4, 5]),)\n",
      "the index of eements whose reminder is 1 when divided by 3: (array([0, 3, 5]),)\n"
     ]
    }
   ],
   "source": [
    "#index rerieval\n",
    "import numpy as np\n",
    "arr=np.array([1,6,2,7,6,4])\n",
    "x=np.where(arr==6)\n",
    "print(\"index of 6:\",x)\n",
    "x=np.where(arr==7)\n",
    "print(\"index of 7:\",x)\n",
    "#retrieve index of elements divisible by 2\n",
    "x=np.where(arr%2==0)\n",
    "print(\"the index elements of elements divisble by 2:\",x)\n",
    "#it should have remainder 1 when divided by 3\n",
    "x=np.where(arr%3==1)\n",
    "print(\"the index of eements whose reminder is 1 when divided by 3:\",x)"
   ]
  },
  {
   "cell_type": "code",
   "execution_count": 15,
   "id": "57c48f07",
   "metadata": {},
   "outputs": [
    {
     "name": "stdout",
     "output_type": "stream",
     "text": [
      "index of left of 8: 5\n"
     ]
    }
   ],
   "source": [
    "#inserting element\n",
    "import numpy as np\n",
    "arr=np.array([0,1,2,2,7,8,9])\n",
    "x=np.searchsorted(arr,8,side='left')\n",
    "print(\"index of left of 8:\",x)"
   ]
  },
  {
   "cell_type": "code",
   "execution_count": 18,
   "id": "d8dbd391",
   "metadata": {},
   "outputs": [
    {
     "name": "stdout",
     "output_type": "stream",
     "text": [
      "the sorted 1D array: [2 4 5 6 7 9]\n",
      "the sorted 2D array:\n",
      " [[4 7 9]\n",
      " [1 4 9]]\n"
     ]
    }
   ],
   "source": [
    "#sorting\n",
    "import numpy as np\n",
    "#1D array\n",
    "arr=np.array([9,5,2,7,6,4])\n",
    "print(\"the sorted 1D array:\",np.sort(arr))\n",
    "#2D array\n",
    "arr=np.array([[7,4,9],[9,1,4]])\n",
    "print(\"the sorted 2D array:\\n\",np.sort(arr))"
   ]
  },
  {
   "cell_type": "code",
   "execution_count": 24,
   "id": "38520250",
   "metadata": {},
   "outputs": [
    {
     "name": "stdout",
     "output_type": "stream",
     "text": [
      "boolean array [False, True, False, True]\n",
      "al the true values: [ 78 100]\n"
     ]
    }
   ],
   "source": [
    "#boolean indexing\n",
    "import numpy as np\n",
    "arr=np.array([31,78,69,100])\n",
    "x=[False,True,False,True]\n",
    "newarr=arr[x]\n",
    "print(\"boolean array\",x)\n",
    "print(\"al the true values:\",newarr)"
   ]
  },
  {
   "cell_type": "code",
   "execution_count": 25,
   "id": "7e2b8f86",
   "metadata": {},
   "outputs": [
    {
     "name": "stdout",
     "output_type": "stream",
     "text": [
      "filter array which is a boolean array: [False  True False  True]\n",
      "filtered array: [ 78 100]\n"
     ]
    }
   ],
   "source": [
    "#filtering for number above 70\n",
    "import numpy as np\n",
    "arr=np.array([31,78,69,100])\n",
    "filter_arr=arr>70\n",
    "newarr=arr[filter_arr]\n",
    "print(\"filter array which is a boolean array:\",filter_arr)\n",
    "print(\"filtered array:\",newarr)"
   ]
  },
  {
   "cell_type": "code",
   "execution_count": null,
   "id": "892b7440",
   "metadata": {},
   "outputs": [],
   "source": []
  }
 ],
 "metadata": {
  "kernelspec": {
   "display_name": "Python 3 (ipykernel)",
   "language": "python",
   "name": "python3"
  },
  "language_info": {
   "codemirror_mode": {
    "name": "ipython",
    "version": 3
   },
   "file_extension": ".py",
   "mimetype": "text/x-python",
   "name": "python",
   "nbconvert_exporter": "python",
   "pygments_lexer": "ipython3",
   "version": "3.11.5"
  }
 },
 "nbformat": 4,
 "nbformat_minor": 5
}
