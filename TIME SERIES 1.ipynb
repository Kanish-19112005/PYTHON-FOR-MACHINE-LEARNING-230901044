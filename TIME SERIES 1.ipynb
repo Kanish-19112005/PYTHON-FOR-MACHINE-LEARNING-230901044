{
 "cells": [
  {
   "cell_type": "code",
   "execution_count": 1,
   "id": "32e0e940",
   "metadata": {},
   "outputs": [
    {
     "name": "stdout",
     "output_type": "stream",
     "text": [
      "today-now function: 2025-04-11 10:35:21.306213\n"
     ]
    }
   ],
   "source": [
    "import datetime\n",
    "a=datetime.datetime.now()\n",
    "print(\"today-now function:\",a)"
   ]
  },
  {
   "cell_type": "code",
   "execution_count": 4,
   "id": "a1e51792",
   "metadata": {},
   "outputs": [
    {
     "name": "stdout",
     "output_type": "stream",
     "text": [
      "today: 2025-04-11 10:36:43.043818\n"
     ]
    }
   ],
   "source": [
    "today=datetime.datetime.today()\n",
    "print(\"today:\",today)"
   ]
  },
  {
   "cell_type": "code",
   "execution_count": 6,
   "id": "7581dbdd",
   "metadata": {},
   "outputs": [
    {
     "name": "stdout",
     "output_type": "stream",
     "text": [
      "tomorrow: 2025-04-12 10:36:43.043818\n"
     ]
    }
   ],
   "source": [
    "tomorrow=today+datetime.timedelta(days=1)\n",
    "print(\"tomorrow:\",tomorrow)"
   ]
  },
  {
   "cell_type": "code",
   "execution_count": 8,
   "id": "e043e765",
   "metadata": {},
   "outputs": [
    {
     "name": "stdout",
     "output_type": "stream",
     "text": [
      "yesterday: 2025-04-10 10:36:43.043818\n"
     ]
    }
   ],
   "source": [
    "yesterday=today-datetime.timedelta(days=1)\n",
    "print(\"yesterday:\",yesterday)"
   ]
  },
  {
   "cell_type": "code",
   "execution_count": 9,
   "id": "6b41d38d",
   "metadata": {},
   "outputs": [
    {
     "name": "stdout",
     "output_type": "stream",
     "text": [
      "date format [2020,6,8,23,10,25,404040): 2020-06-08 23:10:25.404040\n"
     ]
    }
   ],
   "source": [
    "a=datetime.datetime.now()\n",
    "b=datetime.datetime(2020,6,8,23,10,25,404040)\n",
    "print(\"date format [2020,6,8,23,10,25,404040):\",b)"
   ]
  },
  {
   "cell_type": "code",
   "execution_count": 14,
   "id": "f1d2e98b",
   "metadata": {},
   "outputs": [
    {
     "name": "stdout",
     "output_type": "stream",
     "text": [
      "replacing date: 2024-12-31 2024-12-15\n",
      "replacing month: 2024-12-31 2024-03-31\n"
     ]
    }
   ],
   "source": [
    "from datetime import date\n",
    "d=date(2024,12,31)\n",
    "print(\"replacing date:\",d,d.replace(day=15))\n",
    "print(\"replacing month:\",d,d.replace(month=3))"
   ]
  },
  {
   "cell_type": "code",
   "execution_count": 15,
   "id": "4773f9ee",
   "metadata": {},
   "outputs": [
    {
     "name": "stdout",
     "output_type": "stream",
     "text": [
      "today 2025-04-11\n",
      "current year: 2025\n",
      "current month: 4\n",
      "current day: 11\n"
     ]
    }
   ],
   "source": [
    "today=date.today()\n",
    "print(\"today\",today)\n",
    "print(\"current year:\",today.year)\n",
    "print(\"current month:\",today.month)\n",
    "print(\"current day:\",today.day)"
   ]
  },
  {
   "cell_type": "code",
   "execution_count": null,
   "id": "be78cbc9",
   "metadata": {},
   "outputs": [],
   "source": []
  }
 ],
 "metadata": {
  "kernelspec": {
   "display_name": "Python 3 (ipykernel)",
   "language": "python",
   "name": "python3"
  },
  "language_info": {
   "codemirror_mode": {
    "name": "ipython",
    "version": 3
   },
   "file_extension": ".py",
   "mimetype": "text/x-python",
   "name": "python",
   "nbconvert_exporter": "python",
   "pygments_lexer": "ipython3",
   "version": "3.11.5"
  }
 },
 "nbformat": 4,
 "nbformat_minor": 5
}
